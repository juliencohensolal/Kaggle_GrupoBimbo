{
 "cells": [
  {
   "cell_type": "code",
   "execution_count": 1,
   "metadata": {
    "collapsed": true
   },
   "outputs": [],
   "source": [
    "# Imports and useful definitions\n",
    "import random\n",
    "import numpy as np\n",
    "import pandas as pd\n",
    "from IPython.display import display\n",
    "\n",
    "random.seed(156)\n",
    "pd.set_option('display.float_format', lambda x: '%.3f' % x)"
   ]
  },
  {
   "cell_type": "code",
   "execution_count": 2,
   "metadata": {
    "collapsed": false
   },
   "outputs": [],
   "source": [
    "# Load train data\n",
    "# TEMP : Only read a sample to avoid memory errors and speed up further processings\n",
    "# nrows = sum(1 for line in open(\"raw_data/train.csv\")) - 1\n",
    "# sample_size = int(nrows * 0.6)\n",
    "# skip = sorted(random.sample(range(1, nrows + 1), nrows - sample_size))\n",
    "types = {\"Semana\" : np.uint8, \n",
    "         \"Agencia_ID\" : np.uint16, \n",
    "         \"Canal_ID\" : np.uint8,\n",
    "         \"Ruta_SAK\" : np.uint16, \n",
    "         \"Cliente_ID\" : np.uint32, \n",
    "         \"Producto_ID\" : np.uint32,\n",
    "         \"Venta_uni_hoy\" : np.uint16,\n",
    "         \"Venta_hoy\" : np.float32,\n",
    "         \"Dev_uni_proxima\" : np.uint32,\n",
    "         \"Dev_proxima\" : np.float32,\n",
    "         \"Demanda_uni_equil\" : np.uint16}\n",
    "df_train = pd.read_csv(\"raw_data/train.csv\", dtype = types)#  , skiprows = skip)\n",
    "\n",
    "# Change column names for conveniency\n",
    "df_train.columns = [\"week\", \"depot_id\", \"channel_id\", \"route_id\", \"store_id\", \"product_id\", \"sales_nb\", \"sales_pesos\", \n",
    "                    \"returns_nb\", \"returns_pesos\", \"adj_demand\"]\n",
    "\n",
    "# Split data into train-validation sets\n",
    "# Since it's a time series, validation set will be week 9 data\n",
    "x_train = df_train[df_train.week != 9]\n",
    "y_train = x_train.adj_demand\n",
    "x_train = x_train.drop([\"adj_demand\"], axis = 1)\n",
    "x_valid = df_train[df_train.week == 9]\n",
    "y_valid = x_valid.adj_demand\n",
    "x_valid = x_valid.drop([\"sales_nb\", \"sales_pesos\", \"returns_nb\", \"returns_pesos\", \"adj_demand\"], axis = 1)"
   ]
  },
  {
   "cell_type": "code",
   "execution_count": 3,
   "metadata": {
    "collapsed": true
   },
   "outputs": [],
   "source": [
    "# Save data sets on disk\n",
    "x_train.to_csv(\"temp_data/simple/x_train100.csv\", index = False, encoding = \"utf-8\")\n",
    "x_valid.to_csv(\"temp_data/simple/x_valid100.csv\", index = False, encoding = \"utf-8\")\n",
    "y_train.to_csv(\"temp_data/simple/y_train100.csv\", index = False, encoding = \"utf-8\")\n",
    "y_valid.to_csv(\"temp_data/simple/y_valid100.csv\", index = False, encoding = \"utf-8\")"
   ]
  },
  {
   "cell_type": "code",
   "execution_count": null,
   "metadata": {
    "collapsed": true
   },
   "outputs": [],
   "source": []
  }
 ],
 "metadata": {
  "anaconda-cloud": {},
  "kernelspec": {
   "display_name": "Python [Root]",
   "language": "python",
   "name": "Python [Root]"
  },
  "language_info": {
   "codemirror_mode": {
    "name": "ipython",
    "version": 3
   },
   "file_extension": ".py",
   "mimetype": "text/x-python",
   "name": "python",
   "nbconvert_exporter": "python",
   "pygments_lexer": "ipython3",
   "version": "3.5.2"
  }
 },
 "nbformat": 4,
 "nbformat_minor": 0
}
