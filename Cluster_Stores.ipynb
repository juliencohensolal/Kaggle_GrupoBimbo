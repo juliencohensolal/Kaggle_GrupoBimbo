{
 "cells": [
  {
   "cell_type": "code",
   "execution_count": null,
   "metadata": {
    "collapsed": true
   },
   "outputs": [],
   "source": [
    "# Imports and useful definitions\n",
    "import random\n",
    "import numpy as np\n",
    "import pandas as pd\n",
    "import matplotlib.pyplot as plt\n",
    "from IPython.display import display\n",
    "from sklearn.cluster import KMeans\n",
    "from sklearn.decomposition import PCA\n",
    "\n",
    "%matplotlib inline\n",
    "random.seed(156)\n",
    "pd.set_option('display.float_format', lambda x: '%.3f' % x)"
   ]
  },
  {
   "cell_type": "code",
   "execution_count": null,
   "metadata": {
    "collapsed": true
   },
   "outputs": [],
   "source": [
    "df_stores = pd.read_csv(\"raw_data/cliente_tabla.csv\")"
   ]
  },
  {
   "cell_type": "code",
   "execution_count": null,
   "metadata": {
    "collapsed": false
   },
   "outputs": [],
   "source": [
    "# Now a look at the Stores table\n",
    "display(\"Dimensions of Stores table : \" + str(df_stores.shape))\n",
    "display(\"DF head : \")\n",
    "display(df_stores.head())"
   ]
  },
  {
   "cell_type": "code",
   "execution_count": null,
   "metadata": {
    "collapsed": false
   },
   "outputs": [],
   "source": [
    "# Rename columns in english for easier further use\n",
    "df_stores.columns = [\"store_id\", \"store_name\"]\n",
    "display(df_stores.head())"
   ]
  },
  {
   "cell_type": "code",
   "execution_count": null,
   "metadata": {
    "collapsed": false
   },
   "outputs": [],
   "source": [
    "# Check for missing values?\n",
    "display(\"There are \" + str(np.count_nonzero(df_stores.isnull())) + \" rows with missing values\")\n",
    "\n",
    "# Handle duplicates\n",
    "boolDupli = df_stores[\"store_id\"].duplicated(keep = False)\n",
    "display(df_stores[boolDupli].head(6))\n",
    "display(\"There are \" + str(df_stores[boolDupli].shape[0] / 2) + \" duplicate Store IDs\")\n",
    "\n",
    "# Only spacing differences in name, just keep one occurrence of each\n",
    "df_stores = df_stores.drop_duplicates(subset = [\"store_id\"])\n",
    "display(\"New dimensions of Stores table : \" + str(df_stores.shape))\n",
    "\n",
    "# Keep the \"Sin Nombre\" and \"No Identificado\" stores, those might be valid stores with no name entered in the DB\n",
    "# We will see later if those stores are actually active in terms of sells and returns"
   ]
  },
  {
   "cell_type": "code",
   "execution_count": null,
   "metadata": {
    "collapsed": false
   },
   "outputs": [],
   "source": [
    "df_stores.store_name.value_counts(dropna = False)"
   ]
  },
  {
   "cell_type": "code",
   "execution_count": null,
   "metadata": {
    "collapsed": false
   },
   "outputs": [],
   "source": [
    "# We will infer several features like total sales in pesos from trains.csv\n",
    "df_train = pd.read_csv(\"raw_data/train.csv\",\n",
    "                       dtype = {'Semana' : 'int8', 'Agencia_ID' :'int32', 'Canal_ID' : 'int32', 'Ruta_SAK' : 'int32',\n",
    "                                'Cliente-ID' : 'int32', 'Producto_ID':'int32', 'Venta_hoy':'float32', 'Venta_uni_hoy': 'int32', \n",
    "                                'Dev_uni_proxima':'int32', 'Dev_proxima':'float32', 'Demanda_uni_equil':'int32'})\n",
    "df_train.columns = [\"week\", \"depot_id\", \"channel_id\", \"route_id\", \"store_id\", \"product_id\", \"sales_nb\", \"sales_pesos\", \n",
    "                    \"returns_nb\", \"returns_pesos\", \"adj_demand\"]\n",
    "total_sales_nb = df_train.groupby(\"store_id\")[\"sales_nb\"].sum().to_frame()\n",
    "df_stores = pd.merge(left = df_stores, right = total_sales_nb, how = \"left\", left_on = \"store_id\", right_index = True)\n",
    "df_stores.rename(columns = {\"sales_nb\" : \"total_sales_nb\"}, inplace = True)\n",
    "\n",
    "total_sales_pesos = df_train.groupby(\"store_id\")[\"sales_pesos\"].sum().to_frame()\n",
    "df_stores = pd.merge(left = df_stores, right = total_sales_pesos, how = \"left\", left_on = \"store_id\", right_index = True)\n",
    "df_stores.rename(columns = {\"sales_pesos\" : \"total_sales_pesos\"}, inplace = True)\n",
    "\n",
    "total_returns_nb = df_train.groupby(\"store_id\")[\"returns_nb\"].sum().to_frame()\n",
    "df_stores = pd.merge(left = df_stores, right = total_returns_nb, how = \"left\", left_on = \"store_id\", right_index = True)\n",
    "df_stores.rename(columns = {\"returns_nb\" : \"total_returns_nb\"}, inplace = True)\n",
    "\n",
    "total_returns_pesos = df_train.groupby(\"store_id\")[\"returns_pesos\"].sum().to_frame()\n",
    "df_stores = pd.merge(left = df_stores, right = total_returns_pesos, how = \"left\", left_on = \"store_id\", right_index = True)\n",
    "df_stores.rename(columns = {\"returns_pesos\" : \"total_returns_pesos\"}, inplace = True)\n",
    "\n",
    "total_adj_demand = df_train.groupby(\"store_id\")[\"adj_demand\"].sum().to_frame()\n",
    "df_stores = pd.merge(left = df_stores, right = total_adj_demand, how = \"left\", left_on = \"store_id\", right_index = True)\n",
    "df_stores.rename(columns = {\"adj_demand\" : \"total_adj_demand\"}, inplace = True)"
   ]
  },
  {
   "cell_type": "code",
   "execution_count": null,
   "metadata": {
    "collapsed": false
   },
   "outputs": [],
   "source": [
    "display(df_stores.sort_values(\"total_sales_pesos\", ascending = False).head(10))\n",
    "display(df_stores.sort_values(\"total_sales_pesos\", ascending = False).tail(10))\n",
    "display(df_stores.describe())"
   ]
  },
  {
   "cell_type": "code",
   "execution_count": null,
   "metadata": {
    "collapsed": false
   },
   "outputs": [],
   "source": [
    "# Remove rows with NAs\n",
    "df_stores.dropna(axis = 0, how = \"any\", inplace = True)\n",
    "display(\"Dimensions of Stores table are now : \" + str(df_stores.shape))\n",
    "display(df_stores.head())"
   ]
  },
  {
   "cell_type": "code",
   "execution_count": null,
   "metadata": {
    "collapsed": false
   },
   "outputs": [],
   "source": [
    "# Check distribution of total_adj_demand\n",
    "target = df_stores[\"total_adj_demand\"].tolist()\n",
    "plt.hist(target, bins = 100, color = \"red\", range = (0, 5000))\n",
    "plt.title(\"Distribution of target variable under 5000\")\n",
    "plt.xlabel(\"Adjusted demand\")\n",
    "plt.ylabel(\"Count\")\n",
    "plt.show()"
   ]
  },
  {
   "cell_type": "code",
   "execution_count": null,
   "metadata": {
    "collapsed": false,
    "scrolled": true
   },
   "outputs": [],
   "source": [
    "# Remove non-numeric columns\n",
    "df_stores.drop(\"store_name\", axis = 1, inplace = True)\n",
    "display(df_stores.head())"
   ]
  },
  {
   "cell_type": "code",
   "execution_count": null,
   "metadata": {
    "collapsed": false
   },
   "outputs": [],
   "source": [
    "# Use store_id as the index\n",
    "df_stores.set_index(\"store_id\", inplace = True)\n",
    "display(df_stores.head())"
   ]
  },
  {
   "cell_type": "code",
   "execution_count": null,
   "metadata": {
    "collapsed": false
   },
   "outputs": [],
   "source": [
    "# Separate stores in groups using K-Means\n",
    "estimator = KMeans(n_clusters = 10)\n",
    "estimator.fit(df_stores)\n",
    "\n",
    "display(estimator.cluster_centers_)"
   ]
  },
  {
   "cell_type": "code",
   "execution_count": null,
   "metadata": {
    "collapsed": false
   },
   "outputs": [],
   "source": [
    "# Quick plotting to check if the clustering went right\n",
    "labels = estimator.labels_\n",
    "pca_2 = PCA(2)\n",
    "plot_columns = pca_2.fit_transform(df_stores) \n",
    "plt.scatter(x = plot_columns[:,0], y = plot_columns[:,1], c = labels) \n",
    "plt.show()"
   ]
  },
  {
   "cell_type": "code",
   "execution_count": null,
   "metadata": {
    "collapsed": false
   },
   "outputs": [],
   "source": [
    "df_stores[\"cluster\"] = labels\n",
    "display(df_stores.groupby(\"cluster\").describe())"
   ]
  },
  {
   "cell_type": "code",
   "execution_count": null,
   "metadata": {
    "collapsed": false
   },
   "outputs": [],
   "source": [
    "display(df_stores.sort_values(\"total_sales_pesos\", ascending = False).head(10))\n",
    "display(df_stores.sort_values(\"total_sales_pesos\", ascending = False).tail(10))"
   ]
  },
  {
   "cell_type": "code",
   "execution_count": null,
   "metadata": {
    "collapsed": true
   },
   "outputs": [],
   "source": []
  }
 ],
 "metadata": {
  "kernelspec": {
   "display_name": "Python 3",
   "language": "python",
   "name": "python3"
  },
  "language_info": {
   "codemirror_mode": {
    "name": "ipython",
    "version": 3
   },
   "file_extension": ".py",
   "mimetype": "text/x-python",
   "name": "python",
   "nbconvert_exporter": "python",
   "pygments_lexer": "ipython3",
   "version": "3.5.1"
  }
 },
 "nbformat": 4,
 "nbformat_minor": 0
}
