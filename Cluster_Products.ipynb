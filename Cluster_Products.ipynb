{
 "cells": [
  {
   "cell_type": "code",
   "execution_count": null,
   "metadata": {
    "collapsed": true
   },
   "outputs": [],
   "source": [
    "# Imports and useful definitions\n",
    "import random\n",
    "import numpy as np\n",
    "import pandas as pd\n",
    "import matplotlib.pyplot as plt\n",
    "from IPython.display import display\n",
    "from sklearn.cluster import KMeans\n",
    "from sklearn.decomposition import PCA\n",
    "\n",
    "%matplotlib inline\n",
    "random.seed(156)\n",
    "pd.set_option('display.float_format', lambda x: '%.3f' % x)"
   ]
  },
  {
   "cell_type": "code",
   "execution_count": null,
   "metadata": {
    "collapsed": true
   },
   "outputs": [],
   "source": [
    "df_products = pd.read_csv(\"raw_data/producto_tabla.csv\")"
   ]
  },
  {
   "cell_type": "code",
   "execution_count": null,
   "metadata": {
    "collapsed": false
   },
   "outputs": [],
   "source": [
    "# Now a look at the Products table\n",
    "display(\"Dimensions of Products table : \" + str(df_products.shape))\n",
    "display(\"DF head : \")\n",
    "display(df_products.head())"
   ]
  },
  {
   "cell_type": "code",
   "execution_count": null,
   "metadata": {
    "collapsed": false
   },
   "outputs": [],
   "source": [
    "# Rename columns in english for easier further use\n",
    "df_products.columns = [\"product_id\", \"product_name\"]\n",
    "display(df_products.head())"
   ]
  },
  {
   "cell_type": "code",
   "execution_count": null,
   "metadata": {
    "collapsed": false,
    "scrolled": false
   },
   "outputs": [],
   "source": [
    "# Augment the product DF using the data from product_name\n",
    "df_products[\"short_name\"] = df_products.product_name.str.extract('^(\\D*)', expand = False)\n",
    "df_products[\"pieces\"] =  df_products.product_name.str.extract('(\\d+)p ', expand = False).astype('float')\n",
    "weight = df_products.product_name.str.extract('(\\d+)(kg|Kg|g) ', expand = True)\n",
    "df_products[\"weight\"] = weight[0].astype('float') * weight[1].map({'Kg':1000, 'kg':1000, 'g':1})\n",
    "df_products[\"volume\"] =  df_products.product_name.str.extract('(\\d+)ml ', expand = False).astype('float')\n",
    "df_products[\"inches\"] =  df_products.product_name.str.extract('(\\d+)in ', expand = False).astype('float')\n",
    "df_products[\"brand\"] = df_products.product_name.str.extract('^.+\\s(\\D+) \\d+$', expand = False)\n",
    "display(df_products.head())\n",
    "\n",
    "# TODO : handle digits in product name \"Tostado Int 0pct Grasa Azuc\" and packaging \"NM MTA\""
   ]
  },
  {
   "cell_type": "code",
   "execution_count": null,
   "metadata": {
    "collapsed": false
   },
   "outputs": [],
   "source": [
    "# Remove NO IDENTIFICADO entries\n",
    "display(\"Nb of products : \" + str(df_products.shape[0]))\n",
    "df_products = df_products[df_products.short_name != \"NO IDENTIFICADO \"]\n",
    "display(\"Nb of products : \" + str(df_products.shape[0]))\n",
    "display(df_products.head(10))"
   ]
  },
  {
   "cell_type": "code",
   "execution_count": null,
   "metadata": {
    "collapsed": false
   },
   "outputs": [],
   "source": [
    "df_products.short_name.value_counts(dropna = False)"
   ]
  },
  {
   "cell_type": "code",
   "execution_count": null,
   "metadata": {
    "collapsed": false
   },
   "outputs": [],
   "source": [
    "# We will infer several features like average price from trains.csv\n",
    "df_train = pd.read_csv(\"raw_data/train.csv\",\n",
    "                       dtype = {'Semana' : 'int8', 'Agencia_ID' :'int32', 'Canal_ID' : 'int32', 'Ruta_SAK' : 'int32',\n",
    "                                'Cliente-ID' : 'int32', 'Producto_ID':'int32', 'Venta_hoy':'float32', 'Venta_uni_hoy': 'int32', \n",
    "                                'Dev_uni_proxima':'int32', 'Dev_proxima':'float32', 'Demanda_uni_equil':'int32'})\n",
    "df_train.columns = [\"week\", \"depot_id\", \"channel_id\", \"route_id\", \"client_id\", \"product_id\", \"sales_nb\", \"sales_pesos\", \n",
    "                    \"returns_nb\", \"returns_pesos\", \"adj_demand\"]\n",
    "df_train[\"product_price\"] = df_train.sales_pesos / df_train.sales_nb\n",
    "avg_prices = df_train.groupby(\"product_id\")[\"product_price\"].mean().to_frame()\n",
    "df_products = pd.merge(left = df_products, right = avg_prices, how = \"left\", left_on = \"product_id\", right_index = True)\n",
    "df_products.rename(columns = {\"product_price\" : \"avg_price\"}, inplace = True)\n",
    "\n",
    "total_sales_nb = df_train.groupby(\"product_id\")[\"sales_nb\"].sum().to_frame()\n",
    "df_products = pd.merge(left = df_products, right = total_sales_nb, how = \"left\", left_on = \"product_id\", right_index = True)\n",
    "df_products.rename(columns = {\"sales_nb\" : \"total_sales_nb\"}, inplace = True)\n",
    "\n",
    "total_return_nbs = df_train.groupby(\"product_id\")[\"returns_nb\"].sum().to_frame()\n",
    "df_products = pd.merge(left = df_products, right = total_return_nbs, how = \"left\", left_on = \"product_id\", right_index = True)\n",
    "df_products.rename(columns = {\"returns_nb\" : \"total_returns_nb\"}, inplace = True)\n",
    "\n",
    "total_adj_demand = df_train.groupby(\"product_id\")[\"adj_demand\"].sum().to_frame()\n",
    "df_products = pd.merge(left = df_products, right = total_adj_demand, how = \"left\", left_on = \"product_id\", right_index = True)\n",
    "df_products.rename(columns = {\"adj_demand\" : \"total_adj_demand\"}, inplace = True)"
   ]
  },
  {
   "cell_type": "code",
   "execution_count": null,
   "metadata": {
    "collapsed": false,
    "scrolled": false
   },
   "outputs": [],
   "source": [
    "display(df_products.sort_values(\"total_adj_demand\", ascending = False).head(10))\n",
    "display(df_products.sort_values(\"total_adj_demand\", ascending = False).tail(10))\n",
    "display(df_products.describe())"
   ]
  },
  {
   "cell_type": "code",
   "execution_count": null,
   "metadata": {
    "collapsed": false
   },
   "outputs": [],
   "source": [
    "# Remove rows with products who were never sold or returned once (thus providing no information)\n",
    "df_products.dropna(axis = 0, how = \"any\", subset  = [\"total_adj_demand\"], inplace = True)\n",
    "display(\"Dimensions of Products table are now : \" + str(df_products.shape))\n",
    "display(df_products.sort_values(\"total_adj_demand\", ascending = False).tail(10))"
   ]
  },
  {
   "cell_type": "code",
   "execution_count": null,
   "metadata": {
    "collapsed": false
   },
   "outputs": [],
   "source": [
    "# Check distribution of total_adj_demand\n",
    "target = df_products[\"total_adj_demand\"].tolist()\n",
    "plt.hist(target, bins = 100, color = \"red\", range = (0, 50000))\n",
    "plt.title(\"Distribution of target variable under 50 000\")\n",
    "plt.xlabel(\"Adjusted demand\")\n",
    "plt.ylabel(\"Count\")\n",
    "plt.show()"
   ]
  },
  {
   "cell_type": "code",
   "execution_count": null,
   "metadata": {
    "collapsed": false
   },
   "outputs": [],
   "source": [
    "# Use product_id as the index\n",
    "df_products.set_index(\"product_id\", inplace = True)\n",
    "display(df_products.head())"
   ]
  },
  {
   "cell_type": "code",
   "execution_count": null,
   "metadata": {
    "collapsed": false
   },
   "outputs": [],
   "source": [
    "# Only keep relevant columns for clustering\n",
    "temp_products = df_products.drop([\"short_name\", \"product_name\", \"brand\", \"pieces\", \"volume\", \"inches\", \"total_adj_demand\", \n",
    "                                  \"total_returns_nb\", \"total_sales_nb\"], axis = 1)\n",
    "display(temp_products.describe())\n",
    "\n",
    "# Remove rows with NAs\n",
    "temp_products.dropna(axis = 0, how = \"any\", inplace = True)\n",
    "display(temp_products.describe())"
   ]
  },
  {
   "cell_type": "code",
   "execution_count": null,
   "metadata": {
    "collapsed": false
   },
   "outputs": [],
   "source": [
    "# Separate stores in groups using K-Means\n",
    "estimator = KMeans(n_clusters = 12)\n",
    "estimator.fit(temp_products)\n",
    "\n",
    "display(estimator.cluster_centers_)"
   ]
  },
  {
   "cell_type": "code",
   "execution_count": null,
   "metadata": {
    "collapsed": false
   },
   "outputs": [],
   "source": [
    "# Quick plotting to check if the clustering went right\n",
    "labels = estimator.labels_\n",
    "pca_2 = PCA(2)\n",
    "plot_columns = pca_2.fit_transform(temp_products) \n",
    "plt.scatter(x = plot_columns[:,0], y = plot_columns[:,1], c = labels) \n",
    "plt.show()"
   ]
  },
  {
   "cell_type": "code",
   "execution_count": null,
   "metadata": {
    "collapsed": false
   },
   "outputs": [],
   "source": [
    "temp_products[\"cluster\"] = labels\n",
    "display(temp_products.groupby(\"cluster\").describe())"
   ]
  },
  {
   "cell_type": "code",
   "execution_count": null,
   "metadata": {
    "collapsed": true
   },
   "outputs": [],
   "source": [
    "temp_products = temp_products.drop([\"avg_price\", \"weight\"], axis = 1)\n",
    "df_products = pd.merge(left = df_products, right = temp_products, how = \"left\", left_index = True, right_index = True)"
   ]
  },
  {
   "cell_type": "code",
   "execution_count": null,
   "metadata": {
    "collapsed": false
   },
   "outputs": [],
   "source": [
    "display(df_products.sort_values(\"cluster\", ascending = False).tail())"
   ]
  },
  {
   "cell_type": "code",
   "execution_count": null,
   "metadata": {
    "collapsed": true
   },
   "outputs": [],
   "source": []
  }
 ],
 "metadata": {
  "kernelspec": {
   "display_name": "Python 3",
   "language": "python",
   "name": "python3"
  },
  "language_info": {
   "codemirror_mode": {
    "name": "ipython",
    "version": 3
   },
   "file_extension": ".py",
   "mimetype": "text/x-python",
   "name": "python",
   "nbconvert_exporter": "python",
   "pygments_lexer": "ipython3",
   "version": "3.5.1"
  }
 },
 "nbformat": 4,
 "nbformat_minor": 0
}
