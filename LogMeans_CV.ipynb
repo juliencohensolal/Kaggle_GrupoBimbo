{
 "cells": [
  {
   "cell_type": "code",
   "execution_count": 1,
   "metadata": {
    "collapsed": true
   },
   "outputs": [],
   "source": [
    "# Imports and useful definitions\n",
    "import random\n",
    "import numpy as np\n",
    "import pandas as pd\n",
    "\n",
    "from math import sqrt\n",
    "from IPython.display import display\n",
    "from sklearn.metrics import mean_squared_error\n",
    "\n",
    "random.seed(156)\n",
    "pd.set_option('display.float_format', lambda x: '%.3f' % x)\n",
    "\n",
    "exp_constant = 0.9"
   ]
  },
  {
   "cell_type": "code",
   "execution_count": 2,
   "metadata": {
    "collapsed": false
   },
   "outputs": [],
   "source": [
    "# Define the evaluation metric that we want to minimize\n",
    "def rmse(predicted, actual):\n",
    "    return sqrt(mean_squared_error(actual, predicted))"
   ]
  },
  {
   "cell_type": "code",
   "execution_count": 3,
   "metadata": {
    "collapsed": false
   },
   "outputs": [],
   "source": [
    "# Load training and validation data\n",
    "x_train = pd.read_csv(\"temp_data/simple/x_train100.csv\")\n",
    "x_valid = pd.read_csv(\"temp_data/simple/x_valid100.csv\")"
   ]
  },
  {
   "cell_type": "code",
   "execution_count": 4,
   "metadata": {
    "collapsed": true
   },
   "outputs": [],
   "source": [
    "# Demand data skewed to the right, use log to get closer to normal distribution\n",
    "# np.log1p function handles cases where value == 0\n",
    "x_train[\"log_demand\"] = np.log1p(x_train.adj_demand)\n",
    "x_valid[\"log_demand\"] = np.log1p(x_valid.adj_demand)"
   ]
  },
  {
   "cell_type": "code",
   "execution_count": 5,
   "metadata": {
    "collapsed": false
   },
   "outputs": [
    {
     "data": {
      "text/plain": [
       "'1.38629436112'"
      ]
     },
     "metadata": {},
     "output_type": "display_data"
    },
    {
     "data": {
      "text/plain": [
       "'0.8646404207528307'"
      ]
     },
     "metadata": {},
     "output_type": "display_data"
    }
   ],
   "source": [
    "# Compute global median\n",
    "log_global_median = np.median(x_train[\"log_demand\"])\n",
    "display(str(log_global_median))\n",
    "x_valid[\"log_med\"] = log_global_median\n",
    "display(str(rmse(x_valid[\"log_med\"], x_valid[\"log_demand\"])))"
   ]
  },
  {
   "cell_type": "code",
   "execution_count": 6,
   "metadata": {
    "collapsed": false
   },
   "outputs": [
    {
     "data": {
      "text/plain": [
       "'logmeans_prod_store_depot_chan = (x_train.groupby([\"product_id\", \"store_id\", \"depot_id\", \\n                                                   \"channel_id\"]))[\"log_demand\"].mean().to_dict()\\nlogmeans_prod_store_chan_depot = (x_train.groupby([\"product_id\", \"store_id\", \"channel_id\", \\n                                                   \"depot_id\"]))[\"log_demand\"].mean().to_dict()\\nlogmeans_prod_depot_store_chan = (x_train.groupby([\"product_id\", \"depot_id\", \"store_id\", \\n                                                   \"channel_id\"]))[\"log_demand\"].mean().to_dict()\\nlogmeans_prod_depot_chan_store = (x_train.groupby([\"product_id\", \"depot_id\", \"channel_id\", \\n                                                   \"store_id\"]))[\"log_demand\"].mean().to_dict()\\nlogmeans_prod_chan_depot_store = (x_train.groupby([\"product_id\", \"channel_id\", \"depot_id\", \\n                                                   \"store_id\"]))[\"log_demand\"].mean().to_dict()\\nlogmeans_prod_chan_store_depot = (x_train.groupby([\"product_id\", \"channel_id\", \"store_id\", \\n                                                   \"depot_id\"]))[\"log_demand\"].mean().to_dict()'"
      ]
     },
     "execution_count": 6,
     "metadata": {},
     "output_type": "execute_result"
    }
   ],
   "source": [
    "# Compute means of log-transformed demand (better than standard medians and means)\n",
    "# Math explanation : https://www.kaggle.com/apapiu/grupo-bimbo-inventory-demand/mean-vs-medians-a-mathy-approach/discussion\n",
    "logmeans_prod = (x_train.groupby([\"product_id\"]))[\"log_demand\"].mean().to_dict()\n",
    "logmeans_prod_store = (x_train.groupby([\"product_id\", \"store_id\"]))[\"log_demand\"].mean().to_dict()\n",
    "logmeans_prod_depot = (x_train.groupby([\"product_id\", \"depot_id\"]))[\"log_demand\"].mean().to_dict()\n",
    "logmeans_prod_chan = (x_train.groupby([\"product_id\", \"channel_id\"]))[\"log_demand\"].mean().to_dict()\n",
    "'''logmeans_prod_store_depot = (x_train.groupby([\"product_id\", \"store_id\", \"depot_id\"]))[\"log_demand\"].mean().to_dict()\n",
    "logmeans_prod_store_chan = (x_train.groupby([\"product_id\", \"store_id\", \"channel_id\"]))[\"log_demand\"].mean().to_dict()'''\n",
    "logmeans_prod_depot_store = (x_train.groupby([\"product_id\", \"depot_id\", \"store_id\"]))[\"log_demand\"].mean().to_dict()\n",
    "logmeans_prod_chan_store = (x_train.groupby([\"product_id\", \"channel_id\", \"store_id\"]))[\"log_demand\"].mean().to_dict()\n",
    "'''logmeans_prod_store_depot_chan = (x_train.groupby([\"product_id\", \"store_id\", \"depot_id\", \n",
    "                                                   \"channel_id\"]))[\"log_demand\"].mean().to_dict()\n",
    "logmeans_prod_store_chan_depot = (x_train.groupby([\"product_id\", \"store_id\", \"channel_id\", \n",
    "                                                   \"depot_id\"]))[\"log_demand\"].mean().to_dict()\n",
    "logmeans_prod_depot_store_chan = (x_train.groupby([\"product_id\", \"depot_id\", \"store_id\", \n",
    "                                                   \"channel_id\"]))[\"log_demand\"].mean().to_dict()\n",
    "logmeans_prod_depot_chan_store = (x_train.groupby([\"product_id\", \"depot_id\", \"channel_id\", \n",
    "                                                   \"store_id\"]))[\"log_demand\"].mean().to_dict()\n",
    "logmeans_prod_chan_depot_store = (x_train.groupby([\"product_id\", \"channel_id\", \"depot_id\", \n",
    "                                                   \"store_id\"]))[\"log_demand\"].mean().to_dict()\n",
    "logmeans_prod_chan_store_depot = (x_train.groupby([\"product_id\", \"channel_id\", \"store_id\", \n",
    "                                                   \"depot_id\"]))[\"log_demand\"].mean().to_dict()'''"
   ]
  },
  {
   "cell_type": "code",
   "execution_count": null,
   "metadata": {
    "collapsed": false
   },
   "outputs": [
    {
     "data": {
      "text/plain": [
       "'def solution(key):    \\n    key = tuple(key)\\n    prod_id = key[0]\\n    channel_id = key[1]\\n    store_id = key[2]\\n    depot_id = key[3]\\n    if (prod_id, channel_id, store_id, depot_id) in logmeans_prod_chan_store_depot:\\n        val = logmeans_prod_chan_store_depot[prod_id, channel_id, store_id, depot_id]\\n    else:\\n        val = log_global_median        \\n    return val\\n\\nx_valid[\"temp\"] = x_valid[[\"product_id\", \"channel_id\", \"store_id\", \"depot_id\"]].apply(lambda x:solution(x), axis = 1)\\ndisplay(str(rmse(x_valid[\"temp\"], x_valid[\"log_demand\"])))'"
      ]
     },
     "execution_count": 7,
     "metadata": {},
     "output_type": "execute_result"
    }
   ],
   "source": [
    "'''def solution(key):    \n",
    "    key = tuple(key)\n",
    "    prod_id = key[0]\n",
    "    channel_id = key[1]\n",
    "    store_id = key[2]\n",
    "    depot_id = key[3]\n",
    "    if (prod_id, channel_id, store_id, depot_id) in logmeans_prod_chan_store_depot:\n",
    "        val = logmeans_prod_chan_store_depot[prod_id, channel_id, store_id, depot_id]\n",
    "    else:\n",
    "        val = log_global_median        \n",
    "    return val\n",
    "\n",
    "x_valid[\"temp\"] = x_valid[[\"product_id\", \"channel_id\", \"store_id\", \"depot_id\"]].apply(lambda x:solution(x), axis = 1)\n",
    "display(str(rmse(x_valid[\"temp\"], x_valid[\"log_demand\"])))'''"
   ]
  },
  {
   "cell_type": "code",
   "execution_count": null,
   "metadata": {
    "collapsed": false
   },
   "outputs": [],
   "source": [
    "def solution(key):    \n",
    "    key = tuple(key)\n",
    "    product_id = key[0]\n",
    "    channel_id = key[1]\n",
    "    store_id = key[2]\n",
    "    depot_id = key[3]\n",
    "    if (product_id, depot_id, store_id) in logmeans_prod_depot_store:\n",
    "        val = logmeans_prod_depot_store[product_id, depot_id, store_id]\n",
    "    elif (product_id, store_id) in logmeans_prod_store:\n",
    "        val = logmeans_prod_store[product_id, store_id]\n",
    "    elif (product_id, channel_id, store_id) in logmeans_prod_chan_store:\n",
    "        val = logmeans_prod_chan_store[product_id, channel_id, store_id]\n",
    "    elif (product_id, depot_id) in logmeans_prod_depot:\n",
    "        val = logmeans_prod_depot[product_id, depot_id]\n",
    "    elif (product_id, channel_id) in logmeans_prod_chan:\n",
    "        val = logmeans_prod_chan[product_id, channel_id]\n",
    "    elif product_id in logmeans_prod:\n",
    "        val = logmeans_prod[product_id]\n",
    "    else:\n",
    "        val = log_global_median\n",
    "        \n",
    "    return val\n",
    "\n",
    "x_valid[\"log_guess\"] = x_valid[[\"product_id\", \"channel_id\", \"store_id\", \"depot_id\"]].apply(lambda x:solution(x), axis = 1)\n",
    "display(str(rmse(x_valid[\"log_guess\"], x_valid[\"log_demand\"])))\n",
    "\n",
    "# Use exponential to transform back from log form\n",
    "x_valid[\"guess\"] = np.expm1(x_valid[\"log_guess\"]) * exp_constant"
   ]
  },
  {
   "cell_type": "code",
   "execution_count": null,
   "metadata": {
    "collapsed": false
   },
   "outputs": [],
   "source": [
    "display(x_valid.head(10))"
   ]
  },
  {
   "cell_type": "code",
   "execution_count": null,
   "metadata": {
    "collapsed": true
   },
   "outputs": [],
   "source": []
  }
 ],
 "metadata": {
  "kernelspec": {
   "display_name": "Python [Root]",
   "language": "python",
   "name": "Python [Root]"
  },
  "language_info": {
   "codemirror_mode": {
    "name": "ipython",
    "version": 3
   },
   "file_extension": ".py",
   "mimetype": "text/x-python",
   "name": "python",
   "nbconvert_exporter": "python",
   "pygments_lexer": "ipython3",
   "version": "3.5.2"
  }
 },
 "nbformat": 4,
 "nbformat_minor": 0
}
