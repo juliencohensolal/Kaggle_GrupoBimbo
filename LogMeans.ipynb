{
 "cells": [
  {
   "cell_type": "code",
   "execution_count": 1,
   "metadata": {
    "collapsed": true
   },
   "outputs": [],
   "source": [
    "# Imports and useful definitions\n",
    "import random\n",
    "import numpy as np\n",
    "import pandas as pd\n",
    "\n",
    "from IPython.display import display\n",
    "\n",
    "random.seed(156)\n",
    "pd.set_option('display.float_format', lambda x: '%.3f' % x)\n",
    "\n",
    "exp_constant = 0.9"
   ]
  },
  {
   "cell_type": "code",
   "execution_count": 2,
   "metadata": {
    "collapsed": false
   },
   "outputs": [],
   "source": [
    "# Load training and test data\n",
    "df_train = pd.read_csv(\"raw_data/train.csv\",\n",
    "                       dtype = {'Semana' : 'int8', 'Agencia_ID' :'int16', 'Canal_ID' : 'int8', 'Ruta_SAK' : 'int16',\n",
    "                                'Cliente-ID' : 'int32', 'Producto_ID':'int32', 'Venta_uni_hoy':'int16', 'Venta_hoy': 'float32', \n",
    "                                'Dev_uni_proxima':'int32', 'Dev_proxima':'float32', 'Demanda_uni_equil':'int16'})\n",
    "df_train.columns = [\"week\", \"depot_id\", \"channel_id\", \"route_id\", \"store_id\", \"product_id\", \"sales_nb\", \"sales_pesos\", \n",
    "                    \"returns_nb\", \"returns_pesos\", \"adj_demand\"]\n",
    "\n",
    "df_test = pd.read_csv(\"raw_data/test.csv\",\n",
    "                       dtype = {'id' :'int32', 'Semana' : 'int8', 'Agencia_ID' :'int16', 'Canal_ID' : 'int8', \n",
    "                                'Ruta_SAK' : 'int16', 'Cliente-ID' : 'int32', 'Producto_ID':'int32'})\n",
    "df_test.columns = [\"id\", \"week\", \"depot_id\", \"channel_id\", \"route_id\", \"store_id\", \"product_id\"]"
   ]
  },
  {
   "cell_type": "code",
   "execution_count": 3,
   "metadata": {
    "collapsed": true
   },
   "outputs": [],
   "source": [
    "# Demand data skewed to the right, use log to get closer to normal distribution\n",
    "# np.log1p function handles cases where value == 0\n",
    "df_train[\"log_demand\"] = np.log1p(df_train.adj_demand)"
   ]
  },
  {
   "cell_type": "code",
   "execution_count": 4,
   "metadata": {
    "collapsed": false
   },
   "outputs": [
    {
     "data": {
      "text/plain": [
       "'1.38629'"
      ]
     },
     "metadata": {},
     "output_type": "display_data"
    }
   ],
   "source": [
    "# Compute global median\n",
    "log_global_median = np.median(df_train[\"log_demand\"])\n",
    "display(str(log_global_median))"
   ]
  },
  {
   "cell_type": "code",
   "execution_count": 5,
   "metadata": {
    "collapsed": true
   },
   "outputs": [],
   "source": [
    "# Compute means of log-transformed demand (better than standard medians and means)\n",
    "# Math explanation : https://www.kaggle.com/apapiu/grupo-bimbo-inventory-demand/mean-vs-medians-a-mathy-approach/discussion\n",
    "logmeans_prod = (df_train.groupby([\"product_id\"]))[\"log_demand\"].mean().to_dict()\n",
    "logmeans_prod_store = (df_train.groupby([\"product_id\", \"store_id\"]))[\"log_demand\"].mean().to_dict()\n",
    "logmeans_prod_depot = (df_train.groupby([\"product_id\", \"depot_id\"]))[\"log_demand\"].mean().to_dict()\n",
    "logmeans_prod_chan = (df_train.groupby([\"product_id\", \"channel_id\"]))[\"log_demand\"].mean().to_dict()\n",
    "logmeans_prod_depot_store = (df_train.groupby([\"product_id\", \"depot_id\", \"store_id\"]))[\"log_demand\"].mean().to_dict()\n",
    "logmeans_prod_chan_store = (df_train.groupby([\"product_id\", \"channel_id\", \"store_id\"]))[\"log_demand\"].mean().to_dict()"
   ]
  },
  {
   "cell_type": "code",
   "execution_count": 6,
   "metadata": {
    "collapsed": true
   },
   "outputs": [],
   "source": [
    "def solution(key):    \n",
    "    key = tuple(key)\n",
    "    product_id = key[0]\n",
    "    channel_id = key[1]\n",
    "    store_id = key[2]\n",
    "    depot_id = key[3]\n",
    "    if (product_id, depot_id, store_id) in logmeans_prod_depot_store:\n",
    "        val = logmeans_prod_depot_store[product_id, depot_id, store_id]\n",
    "    elif (product_id, store_id) in logmeans_prod_store:\n",
    "        val = logmeans_prod_store[product_id, store_id]\n",
    "    elif (product_id, channel_id, store_id) in logmeans_prod_chan_store:\n",
    "        val = logmeans_prod_chan_store[product_id, channel_id, store_id]\n",
    "    elif (product_id, depot_id) in logmeans_prod_depot:\n",
    "        val = logmeans_prod_depot[product_id, depot_id]\n",
    "    elif (product_id, channel_id) in logmeans_prod_chan:\n",
    "        val = logmeans_prod_chan[product_id, channel_id]\n",
    "    elif product_id in logmeans_prod:\n",
    "        val = logmeans_prod[product_id]\n",
    "    else:\n",
    "        val = log_global_median\n",
    "        \n",
    "    return val\n",
    "\n",
    "df_test[\"Demanda_uni_equil\"] = df_test[[\"product_id\", \"channel_id\", \"store_id\", \"depot_id\"]].apply(lambda x:solution(x), axis = 1)\n",
    "\n",
    "# Use exponential to transform back from log form\n",
    "df_test[\"Demanda_uni_equil\"] = round(np.expm1(df_test[\"Demanda_uni_equil\"]) * exp_constant, 3)"
   ]
  },
  {
   "cell_type": "code",
   "execution_count": 7,
   "metadata": {
    "collapsed": true
   },
   "outputs": [],
   "source": [
    "# Create submission DF with the right formatting\n",
    "df_submit = df_test[[\"id\", \"Demanda_uni_equil\"]]\n",
    "df_submit = df_submit.set_index(\"id\")\n",
    "df_submit.to_csv(\"submissions/log_means.csv\")"
   ]
  },
  {
   "cell_type": "code",
   "execution_count": null,
   "metadata": {
    "collapsed": true
   },
   "outputs": [],
   "source": []
  }
 ],
 "metadata": {
  "kernelspec": {
   "display_name": "Python 3",
   "language": "python",
   "name": "python3"
  },
  "language_info": {
   "codemirror_mode": {
    "name": "ipython",
    "version": 3
   },
   "file_extension": ".py",
   "mimetype": "text/x-python",
   "name": "python",
   "nbconvert_exporter": "python",
   "pygments_lexer": "ipython3",
   "version": "3.5.1"
  }
 },
 "nbformat": 4,
 "nbformat_minor": 0
}
