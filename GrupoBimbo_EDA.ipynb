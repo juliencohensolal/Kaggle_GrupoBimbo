{
 "cells": [
  {
   "cell_type": "code",
   "execution_count": 1,
   "metadata": {
    "collapsed": true
   },
   "outputs": [],
   "source": [
    "# Imports and useful definitions\n",
    "import numpy as np\n",
    "import pandas as pd\n",
    "import matplotlib.pyplot as plt\n",
    "import random\n",
    "import os\n",
    "from IPython.display import display\n",
    "\n",
    "%matplotlib inline\n",
    "    \n",
    "random.seed(156)"
   ]
  },
  {
   "cell_type": "code",
   "execution_count": 2,
   "metadata": {
    "collapsed": false
   },
   "outputs": [
    {
     "data": {
      "text/plain": [
       "'cliente_tabla.csv - 21.25MB'"
      ]
     },
     "metadata": {},
     "output_type": "display_data"
    },
    {
     "data": {
      "text/plain": [
       "'producto_tabla.csv - 0.11MB'"
      ]
     },
     "metadata": {},
     "output_type": "display_data"
    },
    {
     "data": {
      "text/plain": [
       "'sample_submission.csv - 68.88MB'"
      ]
     },
     "metadata": {},
     "output_type": "display_data"
    },
    {
     "data": {
      "text/plain": [
       "'test.csv - 251.11MB'"
      ]
     },
     "metadata": {},
     "output_type": "display_data"
    },
    {
     "data": {
      "text/plain": [
       "'town_state.csv - 0.03MB'"
      ]
     },
     "metadata": {},
     "output_type": "display_data"
    },
    {
     "data": {
      "text/plain": [
       "'train.csv - 3199.36MB'"
      ]
     },
     "metadata": {},
     "output_type": "display_data"
    }
   ],
   "source": [
    "# Check sizes of data files\n",
    "for file in os.listdir(\"raw_data\"):\n",
    "    display(file + \" - \" + str(round(os.path.getsize(\"raw_data/\" + file) / 1000000, 2)) + \"MB\")"
   ]
  },
  {
   "cell_type": "code",
   "execution_count": 3,
   "metadata": {
    "collapsed": false
   },
   "outputs": [],
   "source": [
    "# Store data in DataFrames\n",
    "df_clients = pd.read_csv(\"raw_data/cliente_tabla.csv\")\n",
    "df_products = pd.read_csv(\"raw_data/producto_tabla.csv\")\n",
    "df_town_state = pd.read_csv(\"raw_data/town_state.csv\")\n",
    "df_test = pd.read_csv(\"raw_data/test.csv\")\n",
    "df_train = pd.read_csv(\"raw_data/train.csv\",\n",
    "                       dtype = {'Semana' : 'int8', 'Agencia_ID' :'int32', 'Canal_ID' : 'int32', 'Ruta_SAK' : 'int32',\n",
    "                                'Cliente-ID' : 'int32', 'Producto_ID':'int32', 'Venta_hoy':'float32', 'Venta_uni_hoy': 'int32', \n",
    "                                'Dev_uni_proxima':'int32', 'Dev_proxima':'float32', 'Demanda_uni_equil':'int32'})"
   ]
  },
  {
   "cell_type": "code",
   "execution_count": 4,
   "metadata": {
    "collapsed": false
   },
   "outputs": [
    {
     "data": {
      "text/plain": [
       "'Dimensions of Clients table : '"
      ]
     },
     "metadata": {},
     "output_type": "display_data"
    },
    {
     "data": {
      "text/plain": [
       "(935362, 2)"
      ]
     },
     "metadata": {},
     "output_type": "display_data"
    },
    {
     "data": {
      "text/plain": [
       "'DF head : '"
      ]
     },
     "metadata": {},
     "output_type": "display_data"
    },
    {
     "data": {
      "text/html": [
       "<div>\n",
       "<table border=\"1\" class=\"dataframe\">\n",
       "  <thead>\n",
       "    <tr style=\"text-align: right;\">\n",
       "      <th></th>\n",
       "      <th>Cliente_ID</th>\n",
       "      <th>NombreCliente</th>\n",
       "    </tr>\n",
       "  </thead>\n",
       "  <tbody>\n",
       "    <tr>\n",
       "      <th>0</th>\n",
       "      <td>0</td>\n",
       "      <td>SIN NOMBRE</td>\n",
       "    </tr>\n",
       "    <tr>\n",
       "      <th>1</th>\n",
       "      <td>1</td>\n",
       "      <td>OXXO XINANTECATL</td>\n",
       "    </tr>\n",
       "    <tr>\n",
       "      <th>2</th>\n",
       "      <td>2</td>\n",
       "      <td>SIN NOMBRE</td>\n",
       "    </tr>\n",
       "    <tr>\n",
       "      <th>3</th>\n",
       "      <td>3</td>\n",
       "      <td>EL MORENO</td>\n",
       "    </tr>\n",
       "    <tr>\n",
       "      <th>4</th>\n",
       "      <td>4</td>\n",
       "      <td>SDN SER  DE ALIM  CUERPO SA CIA  DE INT</td>\n",
       "    </tr>\n",
       "  </tbody>\n",
       "</table>\n",
       "</div>"
      ],
      "text/plain": [
       "   Cliente_ID                            NombreCliente\n",
       "0           0                               SIN NOMBRE\n",
       "1           1                         OXXO XINANTECATL\n",
       "2           2                               SIN NOMBRE\n",
       "3           3                                EL MORENO\n",
       "4           4  SDN SER  DE ALIM  CUERPO SA CIA  DE INT"
      ]
     },
     "metadata": {},
     "output_type": "display_data"
    }
   ],
   "source": [
    "# First we take a look at the clients table\n",
    "display(\"Dimensions of Clients table : \")\n",
    "display(df_clients.shape)\n",
    "display(\"DF head : \")\n",
    "display(df_clients.head())"
   ]
  },
  {
   "cell_type": "code",
   "execution_count": 5,
   "metadata": {
    "collapsed": false
   },
   "outputs": [
    {
     "data": {
      "text/html": [
       "<div>\n",
       "<table border=\"1\" class=\"dataframe\">\n",
       "  <thead>\n",
       "    <tr style=\"text-align: right;\">\n",
       "      <th></th>\n",
       "      <th>client_id</th>\n",
       "      <th>client_name</th>\n",
       "    </tr>\n",
       "  </thead>\n",
       "  <tbody>\n",
       "    <tr>\n",
       "      <th>0</th>\n",
       "      <td>0</td>\n",
       "      <td>SIN NOMBRE</td>\n",
       "    </tr>\n",
       "    <tr>\n",
       "      <th>1</th>\n",
       "      <td>1</td>\n",
       "      <td>OXXO XINANTECATL</td>\n",
       "    </tr>\n",
       "    <tr>\n",
       "      <th>2</th>\n",
       "      <td>2</td>\n",
       "      <td>SIN NOMBRE</td>\n",
       "    </tr>\n",
       "    <tr>\n",
       "      <th>3</th>\n",
       "      <td>3</td>\n",
       "      <td>EL MORENO</td>\n",
       "    </tr>\n",
       "    <tr>\n",
       "      <th>4</th>\n",
       "      <td>4</td>\n",
       "      <td>SDN SER  DE ALIM  CUERPO SA CIA  DE INT</td>\n",
       "    </tr>\n",
       "  </tbody>\n",
       "</table>\n",
       "</div>"
      ],
      "text/plain": [
       "   client_id                              client_name\n",
       "0          0                               SIN NOMBRE\n",
       "1          1                         OXXO XINANTECATL\n",
       "2          2                               SIN NOMBRE\n",
       "3          3                                EL MORENO\n",
       "4          4  SDN SER  DE ALIM  CUERPO SA CIA  DE INT"
      ]
     },
     "metadata": {},
     "output_type": "display_data"
    }
   ],
   "source": [
    "# Rename columns in english for easier further use\n",
    "df_clients.columns = [\"client_id\", \"client_name\"]\n",
    "display(df_clients.head())"
   ]
  },
  {
   "cell_type": "code",
   "execution_count": 6,
   "metadata": {
    "collapsed": false
   },
   "outputs": [
    {
     "data": {
      "text/plain": [
       "'There are 930500 unique Client IDs for 935362 total entries'"
      ]
     },
     "metadata": {},
     "output_type": "display_data"
    },
    {
     "data": {
      "text/plain": [
       "'There are 4862 duplicate Client IDs'"
      ]
     },
     "metadata": {},
     "output_type": "display_data"
    },
    {
     "data": {
      "text/plain": [
       "'There are 0 rows with missing values'"
      ]
     },
     "metadata": {},
     "output_type": "display_data"
    }
   ],
   "source": [
    "# Look for number of unique IDs\n",
    "clientIdsUnique = len(set(df_clients[\"client_id\"]))\n",
    "clientIdsTotal = df_clients.shape[0]\n",
    "clientIdsDupli = clientIdsTotal - clientIdsUnique\n",
    "display(\"There are \" + str(clientIdsUnique) + \" unique Client IDs for \" + str(clientIdsTotal) + \" total entries\")\n",
    "display(\"There are \" + str(clientIdsDupli) + \" duplicate Client IDs\")\n",
    "\n",
    "# TODO : handle duplicates\n",
    "\n",
    "# Check for missing values?\n",
    "display(\"There are \" + str(np.count_nonzero(df_clients.isnull())) + \" rows with missing values\")"
   ]
  },
  {
   "cell_type": "code",
   "execution_count": 7,
   "metadata": {
    "collapsed": false
   },
   "outputs": [
    {
     "data": {
      "text/plain": [
       "'Dimensions of Products table : '"
      ]
     },
     "metadata": {},
     "output_type": "display_data"
    },
    {
     "data": {
      "text/plain": [
       "(2592, 2)"
      ]
     },
     "metadata": {},
     "output_type": "display_data"
    },
    {
     "data": {
      "text/plain": [
       "'DF head : '"
      ]
     },
     "metadata": {},
     "output_type": "display_data"
    },
    {
     "data": {
      "text/html": [
       "<div>\n",
       "<table border=\"1\" class=\"dataframe\">\n",
       "  <thead>\n",
       "    <tr style=\"text-align: right;\">\n",
       "      <th></th>\n",
       "      <th>Producto_ID</th>\n",
       "      <th>NombreProducto</th>\n",
       "    </tr>\n",
       "  </thead>\n",
       "  <tbody>\n",
       "    <tr>\n",
       "      <th>0</th>\n",
       "      <td>0</td>\n",
       "      <td>NO IDENTIFICADO 0</td>\n",
       "    </tr>\n",
       "    <tr>\n",
       "      <th>1</th>\n",
       "      <td>9</td>\n",
       "      <td>Capuccino Moka 750g NES 9</td>\n",
       "    </tr>\n",
       "    <tr>\n",
       "      <th>2</th>\n",
       "      <td>41</td>\n",
       "      <td>Bimbollos Ext sAjonjoli 6p 480g BIM 41</td>\n",
       "    </tr>\n",
       "    <tr>\n",
       "      <th>3</th>\n",
       "      <td>53</td>\n",
       "      <td>Burritos Sincro 170g CU LON 53</td>\n",
       "    </tr>\n",
       "    <tr>\n",
       "      <th>4</th>\n",
       "      <td>72</td>\n",
       "      <td>Div Tira Mini Doradita 4p 45g TR 72</td>\n",
       "    </tr>\n",
       "  </tbody>\n",
       "</table>\n",
       "</div>"
      ],
      "text/plain": [
       "   Producto_ID                          NombreProducto\n",
       "0            0                       NO IDENTIFICADO 0\n",
       "1            9               Capuccino Moka 750g NES 9\n",
       "2           41  Bimbollos Ext sAjonjoli 6p 480g BIM 41\n",
       "3           53          Burritos Sincro 170g CU LON 53\n",
       "4           72     Div Tira Mini Doradita 4p 45g TR 72"
      ]
     },
     "metadata": {},
     "output_type": "display_data"
    }
   ],
   "source": [
    "# Now a look at the Products table\n",
    "display(\"Dimensions of Products table : \")\n",
    "display(df_products.shape)\n",
    "display(\"DF head : \")\n",
    "display(df_products.head())"
   ]
  },
  {
   "cell_type": "code",
   "execution_count": 8,
   "metadata": {
    "collapsed": false
   },
   "outputs": [
    {
     "data": {
      "text/html": [
       "<div>\n",
       "<table border=\"1\" class=\"dataframe\">\n",
       "  <thead>\n",
       "    <tr style=\"text-align: right;\">\n",
       "      <th></th>\n",
       "      <th>product_id</th>\n",
       "      <th>product_name</th>\n",
       "    </tr>\n",
       "  </thead>\n",
       "  <tbody>\n",
       "    <tr>\n",
       "      <th>0</th>\n",
       "      <td>0</td>\n",
       "      <td>NO IDENTIFICADO 0</td>\n",
       "    </tr>\n",
       "    <tr>\n",
       "      <th>1</th>\n",
       "      <td>9</td>\n",
       "      <td>Capuccino Moka 750g NES 9</td>\n",
       "    </tr>\n",
       "    <tr>\n",
       "      <th>2</th>\n",
       "      <td>41</td>\n",
       "      <td>Bimbollos Ext sAjonjoli 6p 480g BIM 41</td>\n",
       "    </tr>\n",
       "    <tr>\n",
       "      <th>3</th>\n",
       "      <td>53</td>\n",
       "      <td>Burritos Sincro 170g CU LON 53</td>\n",
       "    </tr>\n",
       "    <tr>\n",
       "      <th>4</th>\n",
       "      <td>72</td>\n",
       "      <td>Div Tira Mini Doradita 4p 45g TR 72</td>\n",
       "    </tr>\n",
       "  </tbody>\n",
       "</table>\n",
       "</div>"
      ],
      "text/plain": [
       "   product_id                            product_name\n",
       "0           0                       NO IDENTIFICADO 0\n",
       "1           9               Capuccino Moka 750g NES 9\n",
       "2          41  Bimbollos Ext sAjonjoli 6p 480g BIM 41\n",
       "3          53          Burritos Sincro 170g CU LON 53\n",
       "4          72     Div Tira Mini Doradita 4p 45g TR 72"
      ]
     },
     "metadata": {},
     "output_type": "display_data"
    }
   ],
   "source": [
    "# Rename columns in english for easier further use\n",
    "df_products.columns = [\"product_id\", \"product_name\"]\n",
    "display(df_products.head())"
   ]
  },
  {
   "cell_type": "code",
   "execution_count": 9,
   "metadata": {
    "collapsed": false
   },
   "outputs": [
    {
     "data": {
      "text/plain": [
       "'There are 0 rows with missing values'"
      ]
     },
     "metadata": {},
     "output_type": "display_data"
    },
    {
     "data": {
      "text/html": [
       "<div>\n",
       "<table border=\"1\" class=\"dataframe\">\n",
       "  <thead>\n",
       "    <tr style=\"text-align: right;\">\n",
       "      <th></th>\n",
       "      <th>product_id</th>\n",
       "      <th>product_name</th>\n",
       "      <th>short_name</th>\n",
       "      <th>brand</th>\n",
       "      <th>weight</th>\n",
       "      <th>pieces</th>\n",
       "    </tr>\n",
       "  </thead>\n",
       "  <tbody>\n",
       "    <tr>\n",
       "      <th>0</th>\n",
       "      <td>0</td>\n",
       "      <td>NO IDENTIFICADO 0</td>\n",
       "      <td>NO IDENTIFICADO</td>\n",
       "      <td>IDENTIFICADO</td>\n",
       "      <td>NaN</td>\n",
       "      <td>NaN</td>\n",
       "    </tr>\n",
       "    <tr>\n",
       "      <th>1</th>\n",
       "      <td>9</td>\n",
       "      <td>Capuccino Moka 750g NES 9</td>\n",
       "      <td>Capuccino Moka</td>\n",
       "      <td>NES</td>\n",
       "      <td>750.0</td>\n",
       "      <td>NaN</td>\n",
       "    </tr>\n",
       "    <tr>\n",
       "      <th>2</th>\n",
       "      <td>41</td>\n",
       "      <td>Bimbollos Ext sAjonjoli 6p 480g BIM 41</td>\n",
       "      <td>Bimbollos Ext sAjonjoli</td>\n",
       "      <td>BIM</td>\n",
       "      <td>480.0</td>\n",
       "      <td>6.0</td>\n",
       "    </tr>\n",
       "    <tr>\n",
       "      <th>3</th>\n",
       "      <td>53</td>\n",
       "      <td>Burritos Sincro 170g CU LON 53</td>\n",
       "      <td>Burritos Sincro</td>\n",
       "      <td>LON</td>\n",
       "      <td>170.0</td>\n",
       "      <td>NaN</td>\n",
       "    </tr>\n",
       "    <tr>\n",
       "      <th>4</th>\n",
       "      <td>72</td>\n",
       "      <td>Div Tira Mini Doradita 4p 45g TR 72</td>\n",
       "      <td>Div Tira Mini Doradita</td>\n",
       "      <td>TR</td>\n",
       "      <td>45.0</td>\n",
       "      <td>4.0</td>\n",
       "    </tr>\n",
       "  </tbody>\n",
       "</table>\n",
       "</div>"
      ],
      "text/plain": [
       "   product_id                            product_name  \\\n",
       "0           0                       NO IDENTIFICADO 0   \n",
       "1           9               Capuccino Moka 750g NES 9   \n",
       "2          41  Bimbollos Ext sAjonjoli 6p 480g BIM 41   \n",
       "3          53          Burritos Sincro 170g CU LON 53   \n",
       "4          72     Div Tira Mini Doradita 4p 45g TR 72   \n",
       "\n",
       "                 short_name         brand  weight  pieces  \n",
       "0          NO IDENTIFICADO   IDENTIFICADO     NaN     NaN  \n",
       "1           Capuccino Moka            NES   750.0     NaN  \n",
       "2  Bimbollos Ext sAjonjoli            BIM   480.0     6.0  \n",
       "3          Burritos Sincro            LON   170.0     NaN  \n",
       "4   Div Tira Mini Doradita             TR    45.0     4.0  "
      ]
     },
     "metadata": {},
     "output_type": "display_data"
    },
    {
     "data": {
      "text/plain": [
       "'There are now 1585 rows with missing values'"
      ]
     },
     "metadata": {},
     "output_type": "display_data"
    }
   ],
   "source": [
    "# Check for missing values?\n",
    "display(\"There are \" + str(np.count_nonzero(df_products.isnull())) + \" rows with missing values\")\n",
    "\n",
    "# Augment the product DF using the data from product_name\n",
    "df_products[\"short_name\"] = df_products.product_name.str.extract(\"^(\\D*)\", expand = False)\n",
    "df_products[\"brand\"] = df_products.product_name.str.extract(\"^.+\\s(\\D+) \\d+$\", expand = False)\n",
    "w = df_products.product_name.str.extract(\"(\\d+)(Kg|g)\", expand = True)\n",
    "df_products[\"weight\"] = w[0].astype(\"float\")*w[1].map({\"Kg\":1000, \"g\":1})\n",
    "df_products[\"pieces\"] =  df_products.product_name.str.extract(\"(\\d+)p \", expand = False).astype(\"float\")\n",
    "display(df_products.head())\n",
    "\n",
    "# Check for missing values?\n",
    "display(\"There are now \" + str(np.count_nonzero(df_products.isnull())) + \" rows with missing values\")"
   ]
  },
  {
   "cell_type": "code",
   "execution_count": 10,
   "metadata": {
    "collapsed": false
   },
   "outputs": [
    {
     "data": {
      "text/plain": [
       "'There are 2592 unique product IDs for 2592 total entries'"
      ]
     },
     "metadata": {},
     "output_type": "display_data"
    },
    {
     "data": {
      "text/plain": [
       "'There are 0 duplicate product IDs'"
      ]
     },
     "metadata": {},
     "output_type": "display_data"
    }
   ],
   "source": [
    "# Look for number of unique IDs\n",
    "productIdsUnique = len(set(df_products[\"product_id\"]))\n",
    "productIdsTotal = df_products.shape[0]\n",
    "productIdsDupli = productIdsTotal - productIdsUnique\n",
    "display(\"There are \" + str(productIdsUnique) + \" unique product IDs for \" + str(productIdsTotal) + \" total entries\")\n",
    "display(\"There are \" + str(productIdsDupli) + \" duplicate product IDs\")"
   ]
  },
  {
   "cell_type": "code",
   "execution_count": 11,
   "metadata": {
    "collapsed": false
   },
   "outputs": [
    {
     "data": {
      "text/plain": [
       "'Dimensions of Town-State table : '"
      ]
     },
     "metadata": {},
     "output_type": "display_data"
    },
    {
     "data": {
      "text/plain": [
       "(790, 3)"
      ]
     },
     "metadata": {},
     "output_type": "display_data"
    },
    {
     "data": {
      "text/plain": [
       "'DF head : '"
      ]
     },
     "metadata": {},
     "output_type": "display_data"
    },
    {
     "data": {
      "text/html": [
       "<div>\n",
       "<table border=\"1\" class=\"dataframe\">\n",
       "  <thead>\n",
       "    <tr style=\"text-align: right;\">\n",
       "      <th></th>\n",
       "      <th>Agencia_ID</th>\n",
       "      <th>Town</th>\n",
       "      <th>State</th>\n",
       "    </tr>\n",
       "  </thead>\n",
       "  <tbody>\n",
       "    <tr>\n",
       "      <th>0</th>\n",
       "      <td>1110</td>\n",
       "      <td>2008 AG. LAGO FILT</td>\n",
       "      <td>MÉXICO, D.F.</td>\n",
       "    </tr>\n",
       "    <tr>\n",
       "      <th>1</th>\n",
       "      <td>1111</td>\n",
       "      <td>2002 AG. AZCAPOTZALCO</td>\n",
       "      <td>MÉXICO, D.F.</td>\n",
       "    </tr>\n",
       "    <tr>\n",
       "      <th>2</th>\n",
       "      <td>1112</td>\n",
       "      <td>2004 AG. CUAUTITLAN</td>\n",
       "      <td>ESTADO DE MÉXICO</td>\n",
       "    </tr>\n",
       "    <tr>\n",
       "      <th>3</th>\n",
       "      <td>1113</td>\n",
       "      <td>2008 AG. LAGO FILT</td>\n",
       "      <td>MÉXICO, D.F.</td>\n",
       "    </tr>\n",
       "    <tr>\n",
       "      <th>4</th>\n",
       "      <td>1114</td>\n",
       "      <td>2029 AG.IZTAPALAPA 2</td>\n",
       "      <td>MÉXICO, D.F.</td>\n",
       "    </tr>\n",
       "  </tbody>\n",
       "</table>\n",
       "</div>"
      ],
      "text/plain": [
       "   Agencia_ID                   Town             State\n",
       "0        1110     2008 AG. LAGO FILT      MÉXICO, D.F.\n",
       "1        1111  2002 AG. AZCAPOTZALCO      MÉXICO, D.F.\n",
       "2        1112    2004 AG. CUAUTITLAN  ESTADO DE MÉXICO\n",
       "3        1113     2008 AG. LAGO FILT      MÉXICO, D.F.\n",
       "4        1114   2029 AG.IZTAPALAPA 2      MÉXICO, D.F."
      ]
     },
     "metadata": {},
     "output_type": "display_data"
    }
   ],
   "source": [
    "# Now a look at the Town-State table\n",
    "display(\"Dimensions of Town-State table : \")\n",
    "display(df_town_state.shape)\n",
    "display(\"DF head : \")\n",
    "display(df_town_state.head())"
   ]
  },
  {
   "cell_type": "code",
   "execution_count": 12,
   "metadata": {
    "collapsed": false
   },
   "outputs": [
    {
     "data": {
      "text/html": [
       "<div>\n",
       "<table border=\"1\" class=\"dataframe\">\n",
       "  <thead>\n",
       "    <tr style=\"text-align: right;\">\n",
       "      <th></th>\n",
       "      <th>depot_id</th>\n",
       "      <th>city</th>\n",
       "      <th>state</th>\n",
       "    </tr>\n",
       "  </thead>\n",
       "  <tbody>\n",
       "    <tr>\n",
       "      <th>0</th>\n",
       "      <td>1110</td>\n",
       "      <td>2008 AG. LAGO FILT</td>\n",
       "      <td>MÉXICO, D.F.</td>\n",
       "    </tr>\n",
       "    <tr>\n",
       "      <th>1</th>\n",
       "      <td>1111</td>\n",
       "      <td>2002 AG. AZCAPOTZALCO</td>\n",
       "      <td>MÉXICO, D.F.</td>\n",
       "    </tr>\n",
       "    <tr>\n",
       "      <th>2</th>\n",
       "      <td>1112</td>\n",
       "      <td>2004 AG. CUAUTITLAN</td>\n",
       "      <td>ESTADO DE MÉXICO</td>\n",
       "    </tr>\n",
       "    <tr>\n",
       "      <th>3</th>\n",
       "      <td>1113</td>\n",
       "      <td>2008 AG. LAGO FILT</td>\n",
       "      <td>MÉXICO, D.F.</td>\n",
       "    </tr>\n",
       "    <tr>\n",
       "      <th>4</th>\n",
       "      <td>1114</td>\n",
       "      <td>2029 AG.IZTAPALAPA 2</td>\n",
       "      <td>MÉXICO, D.F.</td>\n",
       "    </tr>\n",
       "  </tbody>\n",
       "</table>\n",
       "</div>"
      ],
      "text/plain": [
       "   depot_id                   city             state\n",
       "0      1110     2008 AG. LAGO FILT      MÉXICO, D.F.\n",
       "1      1111  2002 AG. AZCAPOTZALCO      MÉXICO, D.F.\n",
       "2      1112    2004 AG. CUAUTITLAN  ESTADO DE MÉXICO\n",
       "3      1113     2008 AG. LAGO FILT      MÉXICO, D.F.\n",
       "4      1114   2029 AG.IZTAPALAPA 2      MÉXICO, D.F."
      ]
     },
     "metadata": {},
     "output_type": "display_data"
    }
   ],
   "source": [
    "# Rename columns in english for easier further use\n",
    "df_town_state.columns = [\"depot_id\", \"city\", \"state\"]\n",
    "display(df_town_state.head())"
   ]
  },
  {
   "cell_type": "code",
   "execution_count": 13,
   "metadata": {
    "collapsed": false
   },
   "outputs": [
    {
     "data": {
      "text/plain": [
       "'There are 790 unique depot IDs for 790 total entries'"
      ]
     },
     "metadata": {},
     "output_type": "display_data"
    },
    {
     "data": {
      "text/plain": [
       "'There are 0 duplicate depot IDs'"
      ]
     },
     "metadata": {},
     "output_type": "display_data"
    },
    {
     "data": {
      "text/plain": [
       "'There are 0 rows with missing values'"
      ]
     },
     "metadata": {},
     "output_type": "display_data"
    }
   ],
   "source": [
    "# Look for number of unique IDs\n",
    "depotIdsUnique = len(set(df_town_state[\"depot_id\"]))\n",
    "depotIdsTotal = df_town_state.shape[0]\n",
    "depotIdsDupli = depotIdsTotal - depotIdsUnique\n",
    "display(\"There are \" + str(depotIdsUnique) + \" unique depot IDs for \" + str(depotIdsTotal) + \" total entries\")\n",
    "display(\"There are \" + str(depotIdsDupli) + \" duplicate depot IDs\")\n",
    "\n",
    "# Check for missing values?\n",
    "display(\"There are \" + str(np.count_nonzero(df_town_state.isnull())) + \" rows with missing values\")"
   ]
  },
  {
   "cell_type": "code",
   "execution_count": null,
   "metadata": {
    "collapsed": true
   },
   "outputs": [],
   "source": [
    "# TODO : What can we do with this DF?\n",
    "# We could group sells by depot_id to get a general idea of the size of a depot, and use that for products on which we don't \n",
    "# have enough training data.\n",
    "# I don't think there is any use for city and state."
   ]
  },
  {
   "cell_type": "code",
   "execution_count": 14,
   "metadata": {
    "collapsed": false
   },
   "outputs": [
    {
     "data": {
      "text/plain": [
       "'Dimensions of Train table : '"
      ]
     },
     "metadata": {},
     "output_type": "display_data"
    },
    {
     "data": {
      "text/plain": [
       "(74180464, 11)"
      ]
     },
     "metadata": {},
     "output_type": "display_data"
    },
    {
     "data": {
      "text/plain": [
       "'DF head : '"
      ]
     },
     "metadata": {},
     "output_type": "display_data"
    },
    {
     "data": {
      "text/html": [
       "<div>\n",
       "<table border=\"1\" class=\"dataframe\">\n",
       "  <thead>\n",
       "    <tr style=\"text-align: right;\">\n",
       "      <th></th>\n",
       "      <th>Semana</th>\n",
       "      <th>Agencia_ID</th>\n",
       "      <th>Canal_ID</th>\n",
       "      <th>Ruta_SAK</th>\n",
       "      <th>Cliente_ID</th>\n",
       "      <th>Producto_ID</th>\n",
       "      <th>Venta_uni_hoy</th>\n",
       "      <th>Venta_hoy</th>\n",
       "      <th>Dev_uni_proxima</th>\n",
       "      <th>Dev_proxima</th>\n",
       "      <th>Demanda_uni_equil</th>\n",
       "    </tr>\n",
       "  </thead>\n",
       "  <tbody>\n",
       "    <tr>\n",
       "      <th>0</th>\n",
       "      <td>3</td>\n",
       "      <td>1110</td>\n",
       "      <td>7</td>\n",
       "      <td>3301</td>\n",
       "      <td>15766</td>\n",
       "      <td>1212</td>\n",
       "      <td>3</td>\n",
       "      <td>25.139999</td>\n",
       "      <td>0</td>\n",
       "      <td>0.0</td>\n",
       "      <td>3</td>\n",
       "    </tr>\n",
       "    <tr>\n",
       "      <th>1</th>\n",
       "      <td>3</td>\n",
       "      <td>1110</td>\n",
       "      <td>7</td>\n",
       "      <td>3301</td>\n",
       "      <td>15766</td>\n",
       "      <td>1216</td>\n",
       "      <td>4</td>\n",
       "      <td>33.520000</td>\n",
       "      <td>0</td>\n",
       "      <td>0.0</td>\n",
       "      <td>4</td>\n",
       "    </tr>\n",
       "    <tr>\n",
       "      <th>2</th>\n",
       "      <td>3</td>\n",
       "      <td>1110</td>\n",
       "      <td>7</td>\n",
       "      <td>3301</td>\n",
       "      <td>15766</td>\n",
       "      <td>1238</td>\n",
       "      <td>4</td>\n",
       "      <td>39.320000</td>\n",
       "      <td>0</td>\n",
       "      <td>0.0</td>\n",
       "      <td>4</td>\n",
       "    </tr>\n",
       "    <tr>\n",
       "      <th>3</th>\n",
       "      <td>3</td>\n",
       "      <td>1110</td>\n",
       "      <td>7</td>\n",
       "      <td>3301</td>\n",
       "      <td>15766</td>\n",
       "      <td>1240</td>\n",
       "      <td>4</td>\n",
       "      <td>33.520000</td>\n",
       "      <td>0</td>\n",
       "      <td>0.0</td>\n",
       "      <td>4</td>\n",
       "    </tr>\n",
       "    <tr>\n",
       "      <th>4</th>\n",
       "      <td>3</td>\n",
       "      <td>1110</td>\n",
       "      <td>7</td>\n",
       "      <td>3301</td>\n",
       "      <td>15766</td>\n",
       "      <td>1242</td>\n",
       "      <td>3</td>\n",
       "      <td>22.920000</td>\n",
       "      <td>0</td>\n",
       "      <td>0.0</td>\n",
       "      <td>3</td>\n",
       "    </tr>\n",
       "  </tbody>\n",
       "</table>\n",
       "</div>"
      ],
      "text/plain": [
       "   Semana  Agencia_ID  Canal_ID  Ruta_SAK  Cliente_ID  Producto_ID  \\\n",
       "0       3        1110         7      3301       15766         1212   \n",
       "1       3        1110         7      3301       15766         1216   \n",
       "2       3        1110         7      3301       15766         1238   \n",
       "3       3        1110         7      3301       15766         1240   \n",
       "4       3        1110         7      3301       15766         1242   \n",
       "\n",
       "   Venta_uni_hoy  Venta_hoy  Dev_uni_proxima  Dev_proxima  Demanda_uni_equil  \n",
       "0              3  25.139999                0          0.0                  3  \n",
       "1              4  33.520000                0          0.0                  4  \n",
       "2              4  39.320000                0          0.0                  4  \n",
       "3              4  33.520000                0          0.0                  4  \n",
       "4              3  22.920000                0          0.0                  3  "
      ]
     },
     "metadata": {},
     "output_type": "display_data"
    }
   ],
   "source": [
    "# Now a look at the Train table\n",
    "display(\"Dimensions of Train table : \")\n",
    "display(df_train.shape)\n",
    "display(\"DF head : \")\n",
    "display(df_train.head())"
   ]
  },
  {
   "cell_type": "code",
   "execution_count": 15,
   "metadata": {
    "collapsed": false
   },
   "outputs": [
    {
     "data": {
      "text/html": [
       "<div>\n",
       "<table border=\"1\" class=\"dataframe\">\n",
       "  <thead>\n",
       "    <tr style=\"text-align: right;\">\n",
       "      <th></th>\n",
       "      <th>week</th>\n",
       "      <th>depot_id</th>\n",
       "      <th>channel_id</th>\n",
       "      <th>route_id</th>\n",
       "      <th>client_id</th>\n",
       "      <th>product_id</th>\n",
       "      <th>sales_nb</th>\n",
       "      <th>sales_pesos</th>\n",
       "      <th>returns_nb</th>\n",
       "      <th>returns_pesos</th>\n",
       "      <th>adj_demand</th>\n",
       "    </tr>\n",
       "  </thead>\n",
       "  <tbody>\n",
       "    <tr>\n",
       "      <th>0</th>\n",
       "      <td>3</td>\n",
       "      <td>1110</td>\n",
       "      <td>7</td>\n",
       "      <td>3301</td>\n",
       "      <td>15766</td>\n",
       "      <td>1212</td>\n",
       "      <td>3</td>\n",
       "      <td>25.139999</td>\n",
       "      <td>0</td>\n",
       "      <td>0.0</td>\n",
       "      <td>3</td>\n",
       "    </tr>\n",
       "    <tr>\n",
       "      <th>1</th>\n",
       "      <td>3</td>\n",
       "      <td>1110</td>\n",
       "      <td>7</td>\n",
       "      <td>3301</td>\n",
       "      <td>15766</td>\n",
       "      <td>1216</td>\n",
       "      <td>4</td>\n",
       "      <td>33.520000</td>\n",
       "      <td>0</td>\n",
       "      <td>0.0</td>\n",
       "      <td>4</td>\n",
       "    </tr>\n",
       "    <tr>\n",
       "      <th>2</th>\n",
       "      <td>3</td>\n",
       "      <td>1110</td>\n",
       "      <td>7</td>\n",
       "      <td>3301</td>\n",
       "      <td>15766</td>\n",
       "      <td>1238</td>\n",
       "      <td>4</td>\n",
       "      <td>39.320000</td>\n",
       "      <td>0</td>\n",
       "      <td>0.0</td>\n",
       "      <td>4</td>\n",
       "    </tr>\n",
       "    <tr>\n",
       "      <th>3</th>\n",
       "      <td>3</td>\n",
       "      <td>1110</td>\n",
       "      <td>7</td>\n",
       "      <td>3301</td>\n",
       "      <td>15766</td>\n",
       "      <td>1240</td>\n",
       "      <td>4</td>\n",
       "      <td>33.520000</td>\n",
       "      <td>0</td>\n",
       "      <td>0.0</td>\n",
       "      <td>4</td>\n",
       "    </tr>\n",
       "    <tr>\n",
       "      <th>4</th>\n",
       "      <td>3</td>\n",
       "      <td>1110</td>\n",
       "      <td>7</td>\n",
       "      <td>3301</td>\n",
       "      <td>15766</td>\n",
       "      <td>1242</td>\n",
       "      <td>3</td>\n",
       "      <td>22.920000</td>\n",
       "      <td>0</td>\n",
       "      <td>0.0</td>\n",
       "      <td>3</td>\n",
       "    </tr>\n",
       "  </tbody>\n",
       "</table>\n",
       "</div>"
      ],
      "text/plain": [
       "   week  depot_id  channel_id  route_id  client_id  product_id  sales_nb  \\\n",
       "0     3      1110           7      3301      15766        1212         3   \n",
       "1     3      1110           7      3301      15766        1216         4   \n",
       "2     3      1110           7      3301      15766        1238         4   \n",
       "3     3      1110           7      3301      15766        1240         4   \n",
       "4     3      1110           7      3301      15766        1242         3   \n",
       "\n",
       "   sales_pesos  returns_nb  returns_pesos  adj_demand  \n",
       "0    25.139999           0            0.0           3  \n",
       "1    33.520000           0            0.0           4  \n",
       "2    39.320000           0            0.0           4  \n",
       "3    33.520000           0            0.0           4  \n",
       "4    22.920000           0            0.0           3  "
      ]
     },
     "metadata": {},
     "output_type": "display_data"
    }
   ],
   "source": [
    "# Rename columns in english for easier further use\n",
    "df_train.columns = [\"week\", \"depot_id\", \"channel_id\", \"route_id\", \"client_id\", \"product_id\", \"sales_nb\", \"sales_pesos\", \n",
    "                    \"returns_nb\", \"returns_pesos\", \"adj_demand\"]\n",
    "display(df_train.head())"
   ]
  },
  {
   "cell_type": "code",
   "execution_count": 16,
   "metadata": {
    "collapsed": false
   },
   "outputs": [
    {
     "data": {
      "text/plain": [
       "'There are 0 rows with missing values'"
      ]
     },
     "metadata": {},
     "output_type": "display_data"
    }
   ],
   "source": [
    "# Check for missing values?\n",
    "display(\"There are \" + str(np.count_nonzero(df_train.isnull())) + \" rows with missing values\")"
   ]
  },
  {
   "cell_type": "code",
   "execution_count": 17,
   "metadata": {
    "collapsed": true
   },
   "outputs": [],
   "source": [
    "# TODO : find ou the point of channel_id and route_id"
   ]
  },
  {
   "cell_type": "code",
   "execution_count": 18,
   "metadata": {
    "collapsed": false
   },
   "outputs": [
    {
     "data": {
      "text/plain": [
       "'Dimensions of Test table : '"
      ]
     },
     "metadata": {},
     "output_type": "display_data"
    },
    {
     "data": {
      "text/plain": [
       "(6999251, 7)"
      ]
     },
     "metadata": {},
     "output_type": "display_data"
    },
    {
     "data": {
      "text/plain": [
       "'DF head : '"
      ]
     },
     "metadata": {},
     "output_type": "display_data"
    },
    {
     "data": {
      "text/html": [
       "<div>\n",
       "<table border=\"1\" class=\"dataframe\">\n",
       "  <thead>\n",
       "    <tr style=\"text-align: right;\">\n",
       "      <th></th>\n",
       "      <th>id</th>\n",
       "      <th>Semana</th>\n",
       "      <th>Agencia_ID</th>\n",
       "      <th>Canal_ID</th>\n",
       "      <th>Ruta_SAK</th>\n",
       "      <th>Cliente_ID</th>\n",
       "      <th>Producto_ID</th>\n",
       "    </tr>\n",
       "  </thead>\n",
       "  <tbody>\n",
       "    <tr>\n",
       "      <th>0</th>\n",
       "      <td>0</td>\n",
       "      <td>11</td>\n",
       "      <td>4037</td>\n",
       "      <td>1</td>\n",
       "      <td>2209</td>\n",
       "      <td>4639078</td>\n",
       "      <td>35305</td>\n",
       "    </tr>\n",
       "    <tr>\n",
       "      <th>1</th>\n",
       "      <td>1</td>\n",
       "      <td>11</td>\n",
       "      <td>2237</td>\n",
       "      <td>1</td>\n",
       "      <td>1226</td>\n",
       "      <td>4705135</td>\n",
       "      <td>1238</td>\n",
       "    </tr>\n",
       "    <tr>\n",
       "      <th>2</th>\n",
       "      <td>2</td>\n",
       "      <td>10</td>\n",
       "      <td>2045</td>\n",
       "      <td>1</td>\n",
       "      <td>2831</td>\n",
       "      <td>4549769</td>\n",
       "      <td>32940</td>\n",
       "    </tr>\n",
       "    <tr>\n",
       "      <th>3</th>\n",
       "      <td>3</td>\n",
       "      <td>11</td>\n",
       "      <td>1227</td>\n",
       "      <td>1</td>\n",
       "      <td>4448</td>\n",
       "      <td>4717855</td>\n",
       "      <td>43066</td>\n",
       "    </tr>\n",
       "    <tr>\n",
       "      <th>4</th>\n",
       "      <td>4</td>\n",
       "      <td>11</td>\n",
       "      <td>1219</td>\n",
       "      <td>1</td>\n",
       "      <td>1130</td>\n",
       "      <td>966351</td>\n",
       "      <td>1277</td>\n",
       "    </tr>\n",
       "  </tbody>\n",
       "</table>\n",
       "</div>"
      ],
      "text/plain": [
       "   id  Semana  Agencia_ID  Canal_ID  Ruta_SAK  Cliente_ID  Producto_ID\n",
       "0   0      11        4037         1      2209     4639078        35305\n",
       "1   1      11        2237         1      1226     4705135         1238\n",
       "2   2      10        2045         1      2831     4549769        32940\n",
       "3   3      11        1227         1      4448     4717855        43066\n",
       "4   4      11        1219         1      1130      966351         1277"
      ]
     },
     "metadata": {},
     "output_type": "display_data"
    }
   ],
   "source": [
    "# Now a look at the Test table\n",
    "display(\"Dimensions of Test table : \")\n",
    "display(df_test.shape)\n",
    "display(\"DF head : \")\n",
    "display(df_test.head())"
   ]
  },
  {
   "cell_type": "code",
   "execution_count": 19,
   "metadata": {
    "collapsed": false
   },
   "outputs": [
    {
     "data": {
      "text/html": [
       "<div>\n",
       "<table border=\"1\" class=\"dataframe\">\n",
       "  <thead>\n",
       "    <tr style=\"text-align: right;\">\n",
       "      <th></th>\n",
       "      <th>id</th>\n",
       "      <th>week</th>\n",
       "      <th>depot_id</th>\n",
       "      <th>channel_id</th>\n",
       "      <th>route_id</th>\n",
       "      <th>client_id</th>\n",
       "      <th>product_id</th>\n",
       "    </tr>\n",
       "  </thead>\n",
       "  <tbody>\n",
       "    <tr>\n",
       "      <th>0</th>\n",
       "      <td>0</td>\n",
       "      <td>11</td>\n",
       "      <td>4037</td>\n",
       "      <td>1</td>\n",
       "      <td>2209</td>\n",
       "      <td>4639078</td>\n",
       "      <td>35305</td>\n",
       "    </tr>\n",
       "    <tr>\n",
       "      <th>1</th>\n",
       "      <td>1</td>\n",
       "      <td>11</td>\n",
       "      <td>2237</td>\n",
       "      <td>1</td>\n",
       "      <td>1226</td>\n",
       "      <td>4705135</td>\n",
       "      <td>1238</td>\n",
       "    </tr>\n",
       "    <tr>\n",
       "      <th>2</th>\n",
       "      <td>2</td>\n",
       "      <td>10</td>\n",
       "      <td>2045</td>\n",
       "      <td>1</td>\n",
       "      <td>2831</td>\n",
       "      <td>4549769</td>\n",
       "      <td>32940</td>\n",
       "    </tr>\n",
       "    <tr>\n",
       "      <th>3</th>\n",
       "      <td>3</td>\n",
       "      <td>11</td>\n",
       "      <td>1227</td>\n",
       "      <td>1</td>\n",
       "      <td>4448</td>\n",
       "      <td>4717855</td>\n",
       "      <td>43066</td>\n",
       "    </tr>\n",
       "    <tr>\n",
       "      <th>4</th>\n",
       "      <td>4</td>\n",
       "      <td>11</td>\n",
       "      <td>1219</td>\n",
       "      <td>1</td>\n",
       "      <td>1130</td>\n",
       "      <td>966351</td>\n",
       "      <td>1277</td>\n",
       "    </tr>\n",
       "  </tbody>\n",
       "</table>\n",
       "</div>"
      ],
      "text/plain": [
       "   id  week  depot_id  channel_id  route_id  client_id  product_id\n",
       "0   0    11      4037           1      2209    4639078       35305\n",
       "1   1    11      2237           1      1226    4705135        1238\n",
       "2   2    10      2045           1      2831    4549769       32940\n",
       "3   3    11      1227           1      4448    4717855       43066\n",
       "4   4    11      1219           1      1130     966351        1277"
      ]
     },
     "metadata": {},
     "output_type": "display_data"
    }
   ],
   "source": [
    "# Rename columns in english for easier further use\n",
    "df_test.columns = [\"id\", \"week\", \"depot_id\", \"channel_id\", \"route_id\", \"client_id\", \"product_id\"]\n",
    "display(df_test.head())"
   ]
  },
  {
   "cell_type": "code",
   "execution_count": 20,
   "metadata": {
    "collapsed": false,
    "scrolled": true
   },
   "outputs": [
    {
     "data": {
      "text/html": [
       "<div>\n",
       "<table border=\"1\" class=\"dataframe\">\n",
       "  <thead>\n",
       "    <tr style=\"text-align: right;\">\n",
       "      <th></th>\n",
       "      <th>week</th>\n",
       "      <th>depot_id</th>\n",
       "      <th>channel_id</th>\n",
       "      <th>route_id</th>\n",
       "      <th>client_id</th>\n",
       "      <th>product_id</th>\n",
       "      <th>sales_nb</th>\n",
       "      <th>sales_pesos</th>\n",
       "      <th>returns_nb</th>\n",
       "      <th>returns_pesos</th>\n",
       "      <th>adj_demand</th>\n",
       "    </tr>\n",
       "  </thead>\n",
       "  <tbody>\n",
       "    <tr>\n",
       "      <th>count</th>\n",
       "      <td>7.418046e+07</td>\n",
       "      <td>7.418046e+07</td>\n",
       "      <td>7.418046e+07</td>\n",
       "      <td>7.418046e+07</td>\n",
       "      <td>7.418046e+07</td>\n",
       "      <td>7.418046e+07</td>\n",
       "      <td>7.418046e+07</td>\n",
       "      <td>7.418046e+07</td>\n",
       "      <td>7.418046e+07</td>\n",
       "      <td>7.418046e+07</td>\n",
       "      <td>7.418046e+07</td>\n",
       "    </tr>\n",
       "    <tr>\n",
       "      <th>mean</th>\n",
       "      <td>5.950021e+00</td>\n",
       "      <td>2.536509e+03</td>\n",
       "      <td>1.383181e+00</td>\n",
       "      <td>2.114855e+03</td>\n",
       "      <td>1.802119e+06</td>\n",
       "      <td>2.084081e+04</td>\n",
       "      <td>7.310163e+00</td>\n",
       "      <td>4.926807e+01</td>\n",
       "      <td>1.302577e-01</td>\n",
       "      <td>1.241306e+00</td>\n",
       "      <td>7.224564e+00</td>\n",
       "    </tr>\n",
       "    <tr>\n",
       "      <th>std</th>\n",
       "      <td>2.013175e+00</td>\n",
       "      <td>4.075124e+03</td>\n",
       "      <td>1.463266e+00</td>\n",
       "      <td>1.487744e+03</td>\n",
       "      <td>2.349577e+06</td>\n",
       "      <td>1.866392e+04</td>\n",
       "      <td>2.196734e+01</td>\n",
       "      <td>3.357969e+02</td>\n",
       "      <td>2.932320e+01</td>\n",
       "      <td>3.907285e+01</td>\n",
       "      <td>2.177119e+01</td>\n",
       "    </tr>\n",
       "    <tr>\n",
       "      <th>min</th>\n",
       "      <td>3.000000e+00</td>\n",
       "      <td>1.110000e+03</td>\n",
       "      <td>1.000000e+00</td>\n",
       "      <td>1.000000e+00</td>\n",
       "      <td>2.600000e+01</td>\n",
       "      <td>4.100000e+01</td>\n",
       "      <td>0.000000e+00</td>\n",
       "      <td>0.000000e+00</td>\n",
       "      <td>0.000000e+00</td>\n",
       "      <td>0.000000e+00</td>\n",
       "      <td>0.000000e+00</td>\n",
       "    </tr>\n",
       "    <tr>\n",
       "      <th>25%</th>\n",
       "      <td>4.000000e+00</td>\n",
       "      <td>1.312000e+03</td>\n",
       "      <td>1.000000e+00</td>\n",
       "      <td>1.161000e+03</td>\n",
       "      <td>3.567670e+05</td>\n",
       "      <td>1.242000e+03</td>\n",
       "      <td>2.000000e+00</td>\n",
       "      <td>1.676000e+01</td>\n",
       "      <td>0.000000e+00</td>\n",
       "      <td>0.000000e+00</td>\n",
       "      <td>2.000000e+00</td>\n",
       "    </tr>\n",
       "    <tr>\n",
       "      <th>50%</th>\n",
       "      <td>6.000000e+00</td>\n",
       "      <td>1.613000e+03</td>\n",
       "      <td>1.000000e+00</td>\n",
       "      <td>1.286000e+03</td>\n",
       "      <td>1.193385e+06</td>\n",
       "      <td>3.054900e+04</td>\n",
       "      <td>3.000000e+00</td>\n",
       "      <td>3.000000e+01</td>\n",
       "      <td>0.000000e+00</td>\n",
       "      <td>0.000000e+00</td>\n",
       "      <td>3.000000e+00</td>\n",
       "    </tr>\n",
       "    <tr>\n",
       "      <th>75%</th>\n",
       "      <td>8.000000e+00</td>\n",
       "      <td>2.036000e+03</td>\n",
       "      <td>1.000000e+00</td>\n",
       "      <td>2.802000e+03</td>\n",
       "      <td>2.371091e+06</td>\n",
       "      <td>3.742600e+04</td>\n",
       "      <td>7.000000e+00</td>\n",
       "      <td>5.610000e+01</td>\n",
       "      <td>0.000000e+00</td>\n",
       "      <td>0.000000e+00</td>\n",
       "      <td>6.000000e+00</td>\n",
       "    </tr>\n",
       "    <tr>\n",
       "      <th>max</th>\n",
       "      <td>9.000000e+00</td>\n",
       "      <td>2.575900e+04</td>\n",
       "      <td>1.100000e+01</td>\n",
       "      <td>9.991000e+03</td>\n",
       "      <td>2.015152e+09</td>\n",
       "      <td>4.999700e+04</td>\n",
       "      <td>7.200000e+03</td>\n",
       "      <td>6.473600e+05</td>\n",
       "      <td>2.500000e+05</td>\n",
       "      <td>1.307600e+05</td>\n",
       "      <td>5.000000e+03</td>\n",
       "    </tr>\n",
       "  </tbody>\n",
       "</table>\n",
       "</div>"
      ],
      "text/plain": [
       "               week      depot_id    channel_id      route_id     client_id  \\\n",
       "count  7.418046e+07  7.418046e+07  7.418046e+07  7.418046e+07  7.418046e+07   \n",
       "mean   5.950021e+00  2.536509e+03  1.383181e+00  2.114855e+03  1.802119e+06   \n",
       "std    2.013175e+00  4.075124e+03  1.463266e+00  1.487744e+03  2.349577e+06   \n",
       "min    3.000000e+00  1.110000e+03  1.000000e+00  1.000000e+00  2.600000e+01   \n",
       "25%    4.000000e+00  1.312000e+03  1.000000e+00  1.161000e+03  3.567670e+05   \n",
       "50%    6.000000e+00  1.613000e+03  1.000000e+00  1.286000e+03  1.193385e+06   \n",
       "75%    8.000000e+00  2.036000e+03  1.000000e+00  2.802000e+03  2.371091e+06   \n",
       "max    9.000000e+00  2.575900e+04  1.100000e+01  9.991000e+03  2.015152e+09   \n",
       "\n",
       "         product_id      sales_nb   sales_pesos    returns_nb  returns_pesos  \\\n",
       "count  7.418046e+07  7.418046e+07  7.418046e+07  7.418046e+07   7.418046e+07   \n",
       "mean   2.084081e+04  7.310163e+00  4.926807e+01  1.302577e-01   1.241306e+00   \n",
       "std    1.866392e+04  2.196734e+01  3.357969e+02  2.932320e+01   3.907285e+01   \n",
       "min    4.100000e+01  0.000000e+00  0.000000e+00  0.000000e+00   0.000000e+00   \n",
       "25%    1.242000e+03  2.000000e+00  1.676000e+01  0.000000e+00   0.000000e+00   \n",
       "50%    3.054900e+04  3.000000e+00  3.000000e+01  0.000000e+00   0.000000e+00   \n",
       "75%    3.742600e+04  7.000000e+00  5.610000e+01  0.000000e+00   0.000000e+00   \n",
       "max    4.999700e+04  7.200000e+03  6.473600e+05  2.500000e+05   1.307600e+05   \n",
       "\n",
       "         adj_demand  \n",
       "count  7.418046e+07  \n",
       "mean   7.224564e+00  \n",
       "std    2.177119e+01  \n",
       "min    0.000000e+00  \n",
       "25%    2.000000e+00  \n",
       "50%    3.000000e+00  \n",
       "75%    6.000000e+00  \n",
       "max    5.000000e+03  "
      ]
     },
     "execution_count": 20,
     "metadata": {},
     "output_type": "execute_result"
    }
   ],
   "source": [
    "# Now a detailed look at the Train table\n",
    "df_train.describe()"
   ]
  },
  {
   "cell_type": "code",
   "execution_count": 27,
   "metadata": {
    "collapsed": false
   },
   "outputs": [
    {
     "data": {
      "text/html": [
       "<div>\n",
       "<table border=\"1\" class=\"dataframe\">\n",
       "  <thead>\n",
       "    <tr style=\"text-align: right;\">\n",
       "      <th></th>\n",
       "      <th>week</th>\n",
       "      <th>depot_id</th>\n",
       "      <th>channel_id</th>\n",
       "      <th>route_id</th>\n",
       "      <th>client_id</th>\n",
       "      <th>product_id</th>\n",
       "      <th>sales_nb</th>\n",
       "      <th>sales_pesos</th>\n",
       "      <th>returns_nb</th>\n",
       "      <th>returns_pesos</th>\n",
       "      <th>adj_demand</th>\n",
       "    </tr>\n",
       "  </thead>\n",
       "  <tbody>\n",
       "    <tr>\n",
       "      <th>0</th>\n",
       "      <td>3</td>\n",
       "      <td>1110</td>\n",
       "      <td>7</td>\n",
       "      <td>3301</td>\n",
       "      <td>15766</td>\n",
       "      <td>1212</td>\n",
       "      <td>3</td>\n",
       "      <td>25.139999</td>\n",
       "      <td>0</td>\n",
       "      <td>0.0</td>\n",
       "      <td>3</td>\n",
       "    </tr>\n",
       "    <tr>\n",
       "      <th>11165209</th>\n",
       "      <td>4</td>\n",
       "      <td>1110</td>\n",
       "      <td>7</td>\n",
       "      <td>3301</td>\n",
       "      <td>15766</td>\n",
       "      <td>1212</td>\n",
       "      <td>4</td>\n",
       "      <td>33.520000</td>\n",
       "      <td>0</td>\n",
       "      <td>0.0</td>\n",
       "      <td>4</td>\n",
       "    </tr>\n",
       "    <tr>\n",
       "      <th>22174800</th>\n",
       "      <td>5</td>\n",
       "      <td>1110</td>\n",
       "      <td>7</td>\n",
       "      <td>3301</td>\n",
       "      <td>15766</td>\n",
       "      <td>1212</td>\n",
       "      <td>5</td>\n",
       "      <td>41.900002</td>\n",
       "      <td>0</td>\n",
       "      <td>0.0</td>\n",
       "      <td>5</td>\n",
       "    </tr>\n",
       "    <tr>\n",
       "      <th>53364883</th>\n",
       "      <td>8</td>\n",
       "      <td>1110</td>\n",
       "      <td>7</td>\n",
       "      <td>3301</td>\n",
       "      <td>15766</td>\n",
       "      <td>1212</td>\n",
       "      <td>4</td>\n",
       "      <td>33.520000</td>\n",
       "      <td>0</td>\n",
       "      <td>0.0</td>\n",
       "      <td>4</td>\n",
       "    </tr>\n",
       "    <tr>\n",
       "      <th>63771751</th>\n",
       "      <td>9</td>\n",
       "      <td>1110</td>\n",
       "      <td>7</td>\n",
       "      <td>3301</td>\n",
       "      <td>15766</td>\n",
       "      <td>1212</td>\n",
       "      <td>1</td>\n",
       "      <td>8.380000</td>\n",
       "      <td>0</td>\n",
       "      <td>0.0</td>\n",
       "      <td>1</td>\n",
       "    </tr>\n",
       "  </tbody>\n",
       "</table>\n",
       "</div>"
      ],
      "text/plain": [
       "          week  depot_id  channel_id  route_id  client_id  product_id  \\\n",
       "0            3      1110           7      3301      15766        1212   \n",
       "11165209     4      1110           7      3301      15766        1212   \n",
       "22174800     5      1110           7      3301      15766        1212   \n",
       "53364883     8      1110           7      3301      15766        1212   \n",
       "63771751     9      1110           7      3301      15766        1212   \n",
       "\n",
       "          sales_nb  sales_pesos  returns_nb  returns_pesos  adj_demand  \n",
       "0                3    25.139999           0            0.0           3  \n",
       "11165209         4    33.520000           0            0.0           4  \n",
       "22174800         5    41.900002           0            0.0           5  \n",
       "53364883         4    33.520000           0            0.0           4  \n",
       "63771751         1     8.380000           0            0.0           1  "
      ]
     },
     "execution_count": 27,
     "metadata": {},
     "output_type": "execute_result"
    }
   ],
   "source": [
    "df_train[(df_train.product_id == 1212) & (df_train.client_id == 15766)] "
   ]
  },
  {
   "cell_type": "code",
   "execution_count": null,
   "metadata": {
    "collapsed": false
   },
   "outputs": [],
   "source": [
    "# DataFrame is so big, it takes too much time to plot or do detailed analysis on it.\n",
    "# let's sample 1% of it for the time being.\n",
    "sample_size = int(df_train.shape[0] * 0.01)\n",
    "display(\"Sample size : \" + str(sample_size))\n",
    "sample_rows = np.random.choice(df_train.index.values, sample_size)\n",
    "df_train_small = df_train.ix[sample_rows]\n",
    "display(\"DF head : \")\n",
    "display(df_train_small.head())"
   ]
  },
  {
   "cell_type": "code",
   "execution_count": null,
   "metadata": {
    "collapsed": false
   },
   "outputs": [],
   "source": [
    "# Plot the data\n",
    "target = df_train_small[\"adj_demand\"].tolist()\n",
    "plt.hist(target, bins = 50, color = \"red\")\n",
    "plt.title(\"Distribution of target variable\")\n",
    "plt.xlabel(\"Adjusted demand\")\n",
    "plt.ylabel(\"Count\")\n",
    "plt.show()"
   ]
  },
  {
   "cell_type": "code",
   "execution_count": null,
   "metadata": {
    "collapsed": false
   },
   "outputs": [],
   "source": [
    "# Distribution of target variable (adj_demand) seems to have some outliers at the top end, which render the plot useless.\n",
    "# 75th percentile is \"6\", but max is \"5000\".\n",
    "display(\"Target values under 500 : \" + str(round(len(df_train_small.loc[df_train_small[\"adj_demand\"] <= 500]) / 7418.04, 2)) + \"%\")\n",
    "display(\"Target values under 100 : \" + str(round(len(df_train_small.loc[df_train_small[\"adj_demand\"] <= 100]) / 7418.04, 2)) + \"%\")\n",
    "display(\"Target values under 50 : \" + str(round(len(df_train_small.loc[df_train_small[\"adj_demand\"] <= 50]) / 7418.04, 2)) + \"%\")"
   ]
  },
  {
   "cell_type": "code",
   "execution_count": null,
   "metadata": {
    "collapsed": false
   },
   "outputs": [],
   "source": [
    "# Let's plot it again, zooming on values under 100, thus keeping more than 99.5% of all rows.\n",
    "target = df_train_small[\"adj_demand\"].tolist()\n",
    "plt.hist(target, bins = 100, color = \"red\", range = (0, 100))\n",
    "plt.title(\"Distribution of target variable under 100\")\n",
    "plt.xlabel(\"Adjusted demand\")\n",
    "plt.ylabel(\"Count\")\n",
    "plt.show()"
   ]
  },
  {
   "cell_type": "code",
   "execution_count": null,
   "metadata": {
    "collapsed": false
   },
   "outputs": [],
   "source": [
    "# Looks like a Poisson distribution?\n",
    "# A real uptick around the value 40, to investigate?\n",
    "display(\"The most common values are, in order : 2 then 1 then 3\")"
   ]
  },
  {
   "cell_type": "code",
   "execution_count": null,
   "metadata": {
    "collapsed": false
   },
   "outputs": [],
   "source": [
    "# Order by date then depot ID\n",
    "df_train_small = df_train_small.sort_values(by = [\"week\", \"client_id\", \"product_id\"], ascending = True)\n",
    "display(\"DF head : \")\n",
    "display(df_train_small.head())\n",
    "display(\"DF tail : \")\n",
    "display(df_train_small.tail())"
   ]
  },
  {
   "cell_type": "code",
   "execution_count": null,
   "metadata": {
    "collapsed": false
   },
   "outputs": [],
   "source": [
    "# Let's see if our random sampling caught approximately equal number of rows from all weeks\n",
    "plt.hist(df_train_small[\"week\"].tolist(), bins = 7, color = \"red\")\n",
    "plt.title(\"Distribution of weeks in sampled data\")\n",
    "plt.xlabel(\"week\")\n",
    "plt.ylabel(\"Count\")\n",
    "plt.show()\n",
    "display(\"Seems we have enough rows for each week\")"
   ]
  },
  {
   "cell_type": "code",
   "execution_count": null,
   "metadata": {
    "collapsed": false
   },
   "outputs": [],
   "source": [
    "# Let's look for time patterns in the target value\n",
    "# Only look at values < 25 to have a usable plot\n",
    "df_train_small_time = df_train_small.loc[df_train_small[\"adj_demand\"] < 25]\n",
    "plt.hist2d(df_train_small_time[\"week\"].tolist(), df_train_small_time[\"adj_demand\"].tolist(), bins = [7, 25])\n",
    "plt.title(\"Distribution of target value over time\")\n",
    "plt.xlabel(\"week\")\n",
    "plt.ylabel(\"adj_demand\")\n",
    "plt.show()\n",
    "display(\"There does seem to be a time pattern, adj_demand seems to decline from week 3 to week 6 for all levels.\")\n",
    "display(\"The values then tend to mostly stay at their week 6 (and even more week 7) value until week 9.\")\n",
    "display(\"It may make sense to only look at week 7 to week 9 data if one wants to sample down.\")"
   ]
  },
  {
   "cell_type": "code",
   "execution_count": null,
   "metadata": {
    "collapsed": true
   },
   "outputs": [],
   "source": []
  }
 ],
 "metadata": {
  "kernelspec": {
   "display_name": "Python [Root]",
   "language": "python",
   "name": "Python [Root]"
  },
  "language_info": {
   "codemirror_mode": {
    "name": "ipython",
    "version": 3
   },
   "file_extension": ".py",
   "mimetype": "text/x-python",
   "name": "python",
   "nbconvert_exporter": "python",
   "pygments_lexer": "ipython3",
   "version": "3.5.2"
  }
 },
 "nbformat": 4,
 "nbformat_minor": 0
}
