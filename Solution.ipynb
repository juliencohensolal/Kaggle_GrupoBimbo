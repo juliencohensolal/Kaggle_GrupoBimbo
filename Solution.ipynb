{
 "cells": [
  {
   "cell_type": "code",
   "execution_count": 1,
   "metadata": {
    "collapsed": true
   },
   "outputs": [],
   "source": [
    "# Imports and useful definitions\n",
    "import random\n",
    "import numpy as np\n",
    "import pandas as pd\n",
    "from IPython.display import display\n",
    "from sklearn.cluster import KMeans\n",
    "from sklearn.decomposition import PCA\n",
    "\n",
    "random.seed(156)\n",
    "pd.set_option('display.float_format', lambda x: '%.3f' % x)"
   ]
  },
  {
   "cell_type": "code",
   "execution_count": 2,
   "metadata": {
    "collapsed": false
   },
   "outputs": [],
   "source": [
    "# Load train data\n",
    "df_train = pd.read_csv(\"temp_data/tot_df_train.csv\")"
   ]
  },
  {
   "cell_type": "code",
   "execution_count": 3,
   "metadata": {
    "collapsed": false
   },
   "outputs": [],
   "source": [
    "# Load test data\n",
    "df_test = pd.read_csv(\"temp_data/tot_df_test.csv\")"
   ]
  },
  {
   "cell_type": "code",
   "execution_count": 9,
   "metadata": {
    "collapsed": false
   },
   "outputs": [],
   "source": [
    "# Create prediction with global median and mean\n",
    "global_median = np.median(df_train[\"adj_demand\"])"
   ]
  },
  {
   "cell_type": "code",
   "execution_count": 5,
   "metadata": {
    "collapsed": true
   },
   "outputs": [],
   "source": [
    "### Level 1 ###\n",
    "\n",
    "'''# Create prediction using data for similar products\n",
    "sProd_medians = df_train.groupby(\"prod_cluster\").agg({\"adj_demand\" : np.median}).to_dict()\n",
    "def sProd_median(prod_cluster):\n",
    "    return sProd_medians[\"adj_demand\"][prod_cluster]'''\n",
    "\n",
    "# Create prediction using data for product_id\n",
    "prod_medians = df_train.groupby(\"product_id\").agg({\"adj_demand\" : np.median}).to_dict()\n",
    "def prod_median(product_id):\n",
    "    return prod_medians[\"adj_demand\"][product_id]"
   ]
  },
  {
   "cell_type": "code",
   "execution_count": 6,
   "metadata": {
    "collapsed": true
   },
   "outputs": [],
   "source": [
    "### Level 2 ###\n",
    "\n",
    "'''# Create prediction using data for similar products in similar stores\n",
    "sProd_sStore_medians = df_train.groupby([\"store_cluster\", \"prod_cluster\"]).agg({\"adj_demand\" : np.median}).to_dict()\n",
    "def sProd_sStore_median(prod_cluster, store_cluster):\n",
    "    return sProd_sStore_medians[\"adj_demand\"][store_cluster, prod_cluster]\n",
    "\n",
    "# Create prediction using data for similar products in store_id\n",
    "sProd_store_medians = df_train.groupby([\"store_id\", \"prod_cluster\"]).agg({\"adj_demand\" : np.median}).to_dict()\n",
    "def sProd_store_median(prod_cluster, store_id):\n",
    "    return sProd_store_medians[\"adj_demand\"][store_id, prod_cluster]\n",
    "\n",
    "# Create prediction using data for product_id in similar stores\n",
    "prod_sStore_medians = df_train.groupby([\"store_cluster\", \"product_id\"]).agg({\"adj_demand\" : np.median}).to_dict()\n",
    "def prod_sStore_median(product_id, store_cluster):\n",
    "    return prod_sStore_medians[\"adj_demand\"][store_cluster, product_id]'''\n",
    "\n",
    "# Create prediction using data for product_id in store_id\n",
    "prod_store_medians = df_train.groupby([\"store_id\", \"product_id\"]).agg({\"adj_demand\" : np.median}).to_dict()\n",
    "def prod_store_median(product_id, store_id):\n",
    "    return prod_store_medians[\"adj_demand\"][store_id, product_id]"
   ]
  },
  {
   "cell_type": "code",
   "execution_count": 7,
   "metadata": {
    "collapsed": false
   },
   "outputs": [],
   "source": [
    "### Level 3 ###\n",
    "\n",
    "'''# Create prediction using data for similar products in similar stores from similar depots\n",
    "sProd_sStore_sDepot_medians = df_train.groupby([\"depot_cluster\", \"store_cluster\", \n",
    "                                               \"prod_cluster\"]).agg({\"adj_demand\" : np.median}).to_dict()\n",
    "def sProd_sStore_sDepot_median(prod_cluster, store_cluster, depot_cluster):\n",
    "    return sProd_sStore_sDepot_medians[\"adj_demand\"][depot_cluster, store_cluster, prod_cluster]\n",
    "\n",
    "# Create prediction using data for similar products in similar stores from depot_id\n",
    "sProd_sStore_depot_medians = df_train.groupby([\"depot_id\", \"store_cluster\", \n",
    "                                              \"prod_cluster\"]).agg({\"adj_demand\" : np.median}).to_dict()\n",
    "def sProd_sStore_depot_median(prod_cluster, store_cluster, depot_id):\n",
    "    return sProd_sStore_depot_medians[\"adj_demand\"][depot_id, store_cluster, prod_cluster]\n",
    "\n",
    "# Create prediction using data for similar products in store_id from similar depots\n",
    "sProd_store_sDepot_medians = df_train.groupby([\"depot_cluster\", \"store_id\", \n",
    "                                              \"prod_cluster\"]).agg({\"adj_demand\" : np.median}).to_dict()\n",
    "def sProd_store_sDepot_median(prod_cluster, store_id, depot_cluster):\n",
    "    return sProd_store_sDepot_medians[\"adj_demand\"][depot_cluster, store_id, prod_cluster]\n",
    "\n",
    "# Create prediction using data for similar products in store_id from depot_id\n",
    "sProd_store_depot_medians = df_train.groupby([\"depot_id\", \"store_id\", \n",
    "                                             \"prod_cluster\"]).agg({\"adj_demand\" : np.median}).to_dict()\n",
    "def sProd_store_depot_median(prod_cluster, store_id, depot_id):\n",
    "    return sProd_store_depot_medians[\"adj_demand\"][depot_id, store_id, prod_cluster]'''\n",
    "\n",
    "# Create prediction using data for product_id in similar stores from similar depots\n",
    "prod_sStore_sDepot_medians = df_train.groupby([\"depot_cluster\", \"store_cluster\", \n",
    "                                              \"product_id\"]).agg({\"adj_demand\" : np.median}).to_dict()\n",
    "def prod_sStore_sDepot_median(product_id, store_cluster, depot_cluster):\n",
    "    return prod_sStore_sDepot_medians[\"adj_demand\"][depot_cluster, store_cluster, product_id]\n",
    "\n",
    "# Create prediction using data for product_id in similar stores from depot_id\n",
    "prod_sStore_depot_medians = df_train.groupby([\"depot_id\", \"store_cluster\", \n",
    "                                             \"product_id\"]).agg({\"adj_demand\" : np.median}).to_dict()\n",
    "def prod_sStore_depot_median(product_id, store_cluster, depot_id):\n",
    "    return prod_sStore_depot_medians[\"adj_demand\"][depot_id, store_cluster, product_id]\n",
    "\n",
    "'''# Create prediction using data for product_id in store_id from similar depots\n",
    "prod_store_sDepot_medians = df_train.groupby([\"depot_cluster\", \"store_id\", \n",
    "                                             \"product_id\"]).agg({\"adj_demand\" : np.median}).to_dict()\n",
    "def prod_store_sDepot_median(product_id, store_id, depot_cluster):\n",
    "    return prod_store_sDepot_medians[\"adj_demand\"][depot_cluster, store_id, product_id]'''\n",
    "\n",
    "# Create prediction using data for product_id in store_id from depot_id\n",
    "prod_store_depot_medians = df_train.groupby([\"depot_id\", \"store_id\", \n",
    "                                            \"product_id\"]).agg({\"adj_demand\" : np.median}).to_dict()\n",
    "def prod_store_depot_median(product_id, store_id, depot_id):\n",
    "    return prod_store_depot_medians[\"adj_demand\"][depot_id, store_id, product_id]"
   ]
  },
  {
   "cell_type": "code",
   "execution_count": 12,
   "metadata": {
    "collapsed": false
   },
   "outputs": [],
   "source": [
    "def solution(key):\n",
    "    key = tuple(key)\n",
    "    depot_id = key[0]\n",
    "    store_id = key[1]\n",
    "    prod_id = key[2]\n",
    "    depot_cluster = key[3]\n",
    "    store_cluster = key[4]\n",
    "    prod_cluster = key[5]\n",
    "    try:\n",
    "        val = prod_store_depot_median(prod_id, store_id, depot_id)\n",
    "        #display(\"1\")\n",
    "    except:\n",
    "        '''try:\n",
    "            val = prod_store_sDepot_median(prod_id, store_id, depot_cluster)\n",
    "            #display(\"___2\")\n",
    "        except:\n",
    "            try:\n",
    "                val = prod_store_median(prod_id, store_id)\n",
    "                #display(\"______3\")\n",
    "            except:'''\n",
    "        try:\n",
    "            val = prod_sStore_depot_median(prod_id, store_cluster, depot_id)\n",
    "            #display(\"_________4\")\n",
    "        except:\n",
    "            try:\n",
    "                val = prod_sStore_sDepot_median(prod_id, store_cluster, depot_cluster)\n",
    "                #display(\"____________5\")\n",
    "            except:\n",
    "                '''try:\n",
    "                    val =  prod_sStore_median(prod_id, store_cluster)\n",
    "                    #display(\"_______________6\")\n",
    "                except:'''\n",
    "                try:\n",
    "                    val = prod_median(prod_id)\n",
    "                    #display(\"__________________7\")\n",
    "                except:\n",
    "                    '''try:\n",
    "                        val = sProd_store_depot_median(prod_cluster, store_id, depot_id)\n",
    "                        #display(\"_____________________8\")\n",
    "                    except:\n",
    "                        try:\n",
    "                            val = sProd_store_sDepot_median(prod_cluster, store_id, depot_cluster)\n",
    "                            #display(\"_____________________9\")\n",
    "                        except:\n",
    "                            try:\n",
    "                                val = sProd_store_median(prod_cluster, store_id)\n",
    "                                #display(\"_____________________10\")\n",
    "                            except:\n",
    "                                try:\n",
    "                                    val = sProd_sStore_depot_median(prod_cluster, store_cluster, depot_id)\n",
    "                                    #display(\"_____________________11\")\n",
    "                                except:\n",
    "                                    try:\n",
    "                                        val = sProd_sStore_sDepot_median(prod_cluster, store_cluster, depot_cluster)\n",
    "                                        #display(\"_____________________12\")\n",
    "                                    except:\n",
    "                                        try:\n",
    "                                            val = sProd_sStore_median(prod_cluster, store_cluster)\n",
    "                                            #display(\"_____________________13\")\n",
    "                                        except:\n",
    "                                            try:\n",
    "                                                val = sProd_median(prod_cluster)\n",
    "                                                #display(\"_____________________14\")\n",
    "                                            except:'''\n",
    "                    val = global_median\n",
    "                    #display(\"________________________15\")\n",
    "\n",
    "    return val\n",
    "\n",
    "\n",
    "df_test[\"Demanda_uni_equil\"] = df_test[[\"depot_id\", \"store_id\", \"product_id\", \"depot_cluster\", \"store_cluster\", \n",
    "                                        \"prod_cluster\"]].apply(lambda x:solution(x), axis = 1)"
   ]
  },
  {
   "cell_type": "code",
   "execution_count": 13,
   "metadata": {
    "collapsed": true
   },
   "outputs": [],
   "source": [
    "# Create submission DF with the right formatting\n",
    "df_submit = df_test[[\"id\", \"Demanda_uni_equil\"]]\n",
    "df_submit = df_submit.set_index(\"id\")\n",
    "df_submit.to_csv(\"submissions/three_levels_medians.csv\")"
   ]
  },
  {
   "cell_type": "code",
   "execution_count": null,
   "metadata": {
    "collapsed": true
   },
   "outputs": [],
   "source": []
  }
 ],
 "metadata": {
  "kernelspec": {
   "display_name": "Python [Root]",
   "language": "python",
   "name": "Python [Root]"
  },
  "language_info": {
   "codemirror_mode": {
    "name": "ipython",
    "version": 3
   },
   "file_extension": ".py",
   "mimetype": "text/x-python",
   "name": "python",
   "nbconvert_exporter": "python",
   "pygments_lexer": "ipython3",
   "version": "3.5.2"
  }
 },
 "nbformat": 4,
 "nbformat_minor": 0
}
